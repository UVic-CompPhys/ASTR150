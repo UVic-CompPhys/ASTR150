{
 "cells": [
  {
   "cell_type": "markdown",
   "metadata": {},
   "source": [
    "# Stellar death\n",
    "\n",
    "The mass ranges below are approximate. They also depend, for example, on metal content, and are in fact somewhat uncertain.\n",
    "\n",
    "Initial stellar mass  | Death\n",
    "----------------------|--------\n",
    "< 8$M_\\odot$          | White Dwarf\n",
    "8$M_\\odot$ < 20$M_\\odot$| Neutron Star\n",
    "> 20$M_\\odot$   | Black Hole\n",
    "\n",
    "\n",
    "We distinguish two type of supernova:\n",
    "\n",
    "Initial stellar mass  | Progenitor evolution | Explosion mechanism | H in spectra\n",
    "----------------------|-----------------------|---------------------|--------------\n",
    "< 8$M_\\odot$          | White Dwarf exceeds Chanraskhar mass due to accretion or merger of two WDs | C ignition and thermonuclear explosion in _degenerate_ WD| No\n",
    "8$M_\\odot$ < 20$M_\\odot$| Massive star evolves until Fe core $\\rightarrow$ no nuclear energy generation by fusion | core collapse into neutron star $\\rightarrow$ explosion | Yes (with exceptions)\n",
    "\n"
   ]
  },
  {
   "cell_type": "markdown",
   "metadata": {},
   "source": [
    "## Planetary nebula age"
   ]
  },
  {
   "cell_type": "markdown",
   "metadata": {},
   "source": [
    "In a spectrum of the ring nebula (whose diameter is 1.7 lightyears), we find that the Balmer H alpha line is shifted from  its rest wavelength of 656.3 nm by 0.04 nm.  How old is the nebula?"
   ]
  },
  {
   "cell_type": "code",
   "execution_count": 1,
   "metadata": {},
   "outputs": [],
   "source": [
    "from astropy import units as u\n",
    "from astropy import constants as c"
   ]
  },
  {
   "cell_type": "code",
   "execution_count": 4,
   "metadata": {},
   "outputs": [],
   "source": [
    "d = 1.7 * u.lyr"
   ]
  },
  {
   "cell_type": "code",
   "execution_count": 5,
   "metadata": {},
   "outputs": [],
   "source": [
    "r = d/2"
   ]
  },
  {
   "cell_type": "markdown",
   "metadata": {},
   "source": [
    "Formular for Doppler shift:\n",
    "$$\n",
    "\\frac{v}{c_\\mathrm{s}} = \\frac{\\Delta \\lambda}{\\lambda}\n",
    "$$"
   ]
  },
  {
   "cell_type": "code",
   "execution_count": 14,
   "metadata": {},
   "outputs": [
    {
     "data": {
      "text/latex": [
       "$18.271672 \\; \\mathrm{\\frac{km}{s}}$"
      ],
      "text/plain": [
       "<Quantity 18.27167198 km / s>"
      ]
     },
     "execution_count": 14,
     "metadata": {},
     "output_type": "execute_result"
    }
   ],
   "source": [
    "v = c.c * 0.04/656.3\n",
    "v.to('km/s')"
   ]
  },
  {
   "cell_type": "code",
   "execution_count": 16,
   "metadata": {},
   "outputs": [
    {
     "data": {
      "text/latex": [
       "$13946.375 \\; \\mathrm{yr}$"
      ],
      "text/plain": [
       "<Quantity 13946.375 yr>"
      ]
     },
     "execution_count": 16,
     "metadata": {},
     "output_type": "execute_result"
    }
   ],
   "source": [
    "time = r/v\n",
    "time.to('yr')"
   ]
  },
  {
   "cell_type": "markdown",
   "metadata": {},
   "source": [
    "## Neutron stars\n",
    "\n",
    "* Moment of inertia: $I = r^2 m$\n",
    "* Angular speed: $\\omega = \\frac{v}{r}$\n",
    "* Angular momentum: $L = I \\omega = r m v$\n",
    "* For comparison: linear momentum\" $p = m v$\n",
    "\n",
    "\n",
    "## Black holes\n",
    "What is the escape velocity for the earth?"
   ]
  },
  {
   "cell_type": "code",
   "execution_count": 26,
   "metadata": {},
   "outputs": [],
   "source": [
    "import numpy as np"
   ]
  },
  {
   "cell_type": "code",
   "execution_count": 27,
   "metadata": {},
   "outputs": [],
   "source": [
    "v_esc = np.sqrt(2*c.G* c.M_earth/c.R_earth)"
   ]
  },
  {
   "cell_type": "code",
   "execution_count": 29,
   "metadata": {},
   "outputs": [
    {
     "data": {
      "text/latex": [
       "$11.179907 \\; \\mathrm{\\frac{km}{s}}$"
      ],
      "text/plain": [
       "<Quantity 11.17990726 km / s>"
      ]
     },
     "execution_count": 29,
     "metadata": {},
     "output_type": "execute_result"
    }
   ],
   "source": [
    "v_esc.to('km/s')"
   ]
  },
  {
   "cell_type": "code",
   "execution_count": 33,
   "metadata": {},
   "outputs": [],
   "source": [
    "from astropy import units as u\n",
    "from astropy import constants as c"
   ]
  },
  {
   "cell_type": "code",
   "execution_count": 35,
   "metadata": {},
   "outputs": [
    {
     "data": {
      "text/latex": [
       "$0.88700551 \\; \\mathrm{cm}$"
      ],
      "text/plain": [
       "<Quantity 0.88700551 cm>"
      ]
     },
     "execution_count": 35,
     "metadata": {},
     "output_type": "execute_result"
    }
   ],
   "source": [
    "Rs = 2*c.G * c.M_earth / c.c**2\n",
    "Rs.to('cm')"
   ]
  },
  {
   "cell_type": "code",
   "execution_count": 31,
   "metadata": {},
   "outputs": [
    {
     "data": {
      "text/latex": [
       "$0.0088700551 \\; \\mathrm{m}$"
      ],
      "text/plain": [
       "<Quantity 0.00887006 m>"
      ]
     },
     "execution_count": 31,
     "metadata": {},
     "output_type": "execute_result"
    }
   ],
   "source": [
    "Rs"
   ]
  },
  {
   "cell_type": "code",
   "execution_count": 32,
   "metadata": {},
   "outputs": [
    {
     "data": {
      "text/latex": [
       "$0.88700551 \\; \\mathrm{cm}$"
      ],
      "text/plain": [
       "<Quantity 0.88700551 cm>"
      ]
     },
     "execution_count": 32,
     "metadata": {},
     "output_type": "execute_result"
    }
   ],
   "source": [
    "Rs.to('cm')"
   ]
  },
  {
   "cell_type": "code",
   "execution_count": null,
   "metadata": {},
   "outputs": [],
   "source": []
  }
 ],
 "metadata": {
  "kernelspec": {
   "display_name": "Python 3",
   "language": "python",
   "name": "python3"
  },
  "language_info": {
   "codemirror_mode": {
    "name": "ipython",
    "version": 3
   },
   "file_extension": ".py",
   "mimetype": "text/x-python",
   "name": "python",
   "nbconvert_exporter": "python",
   "pygments_lexer": "ipython3",
   "version": "3.7.3"
  }
 },
 "nbformat": 4,
 "nbformat_minor": 2
}
