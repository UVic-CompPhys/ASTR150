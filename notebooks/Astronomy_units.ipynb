{
 "cells": [
  {
   "cell_type": "code",
   "execution_count": 2,
   "metadata": {},
   "outputs": [],
   "source": [
    "from astropy import units as u\n",
    "from astropy import constants as c"
   ]
  },
  {
   "cell_type": "code",
   "execution_count": 5,
   "metadata": {},
   "outputs": [
    {
     "data": {
      "text/plain": [
       "\u001b[0;31mType:\u001b[0m        module\n",
       "\u001b[0;31mString form:\u001b[0m <module 'astropy.constants' from '/usr/local/lib/python3.6/dist-packages/astropy/constants/__init__.py'>\n",
       "\u001b[0;31mFile:\u001b[0m        /usr/local/lib/python3.6/dist-packages/astropy/constants/__init__.py\n",
       "\u001b[0;31mDocstring:\u001b[0m  \n",
       "Contains astronomical and physical constants for use in Astropy or other\n",
       "places.\n",
       "\n",
       "A typical use case might be::\n",
       "\n",
       "    >>> from astropy.constants import c, m_e\n",
       "    >>> # ... define the mass of something you want the rest energy of as m ...\n",
       "    >>> m = m_e\n",
       "    >>> E = m * c**2\n",
       "    >>> E.to('MeV')  # doctest: +FLOAT_CMP\n",
       "    <Quantity 0.510998927603161 MeV>\n",
       "\n",
       "The following constants are available:\n",
       "\n",
       "========== ============== ================ =========================\n",
       "   Name        Value            Unit       Description\n",
       "========== ============== ================ =========================\n",
       "    G       6.67408e-11     m3 / (kg s2)   Gravitational constant\n",
       "   N_A     6.02214086e+23    1 / (mol)     Avogadro's number\n",
       "    R        8.3144598      J / (K mol)    Gas constant\n",
       "   Ryd       10973731.6       1 / (m)      Rydberg constant\n",
       "    a0     5.29177211e-11        m         Bohr radius\n",
       "  alpha    0.00729735257                   Fine-structure constant\n",
       "   atm         101325            Pa        Standard atmosphere\n",
       "  b_wien    0.0028977729        m K        Wien wavelength displacement law constant\n",
       "    c        299792458        m / (s)      Speed of light in vacuum\n",
       "    e      1.60217662e-19        C         Electron charge\n",
       "   eps0    8.85418782e-12       F/m        Electric constant\n",
       "    g0        9.80665          m / s2      Standard acceleration of gravity\n",
       "    h      6.62607004e-34       J s        Planck constant\n",
       "   hbar    1.0545718e-34        J s        Reduced Planck constant\n",
       "   k_B     1.38064852e-23     J / (K)      Boltzmann constant\n",
       "   m_e     9.10938356e-31        kg        Electron mass\n",
       "   m_n     1.67492747e-27        kg        Neutron mass\n",
       "   m_p     1.6726219e-27         kg        Proton mass\n",
       "   mu0     1.25663706e-06       N/A2       Magnetic constant\n",
       "   muB     9.27400999e-24       J/T        Bohr magneton\n",
       " sigma_T   6.65245872e-29        m2        Thomson scattering cross-section\n",
       " sigma_sb   5.670367e-08    W / (K4 m2)    Stefan-Boltzmann constant\n",
       "    u      1.66053904e-27        kg        Atomic mass\n",
       " GM_earth   3.986004e+14     m3 / (s2)     Nominal Earth mass parameter\n",
       "  GM_jup   1.2668653e+17     m3 / (s2)     Nominal Jupiter mass parameter\n",
       "  GM_sun   1.3271244e+20     m3 / (s2)     Nominal solar mass parameter\n",
       "  L_bol0     3.0128e+28          W         Luminosity for absolute bolometric magnitude 0\n",
       "  L_sun      3.828e+26           W         Nominal solar luminosity\n",
       " M_earth   5.97236473e+24        kg        Earth mass\n",
       "  M_jup    1.89818717e+27        kg        Jupiter mass\n",
       "  M_sun    1.98847542e+30        kg        Solar mass\n",
       " R_earth      6378100            m         Nominal Earth equatorial radius\n",
       "  R_jup       71492000           m         Nominal Jupiter equatorial radius\n",
       "  R_sun      695700000           m         Nominal solar radius\n",
       "    au     1.49597871e+11        m         Astronomical Unit\n",
       "   kpc     3.08567758e+19        m         Kiloparsec\n",
       "    pc     3.08567758e+16        m         Parsec\n",
       "========== ============== ================ =========================\n"
      ]
     },
     "metadata": {},
     "output_type": "display_data"
    }
   ],
   "source": [
    "c?"
   ]
  },
  {
   "cell_type": "code",
   "execution_count": 3,
   "metadata": {},
   "outputs": [
    {
     "data": {
      "text/latex": [
       "$\\mathrm{lyr}$"
      ],
      "text/plain": [
       "Unit(\"lyr\")"
      ]
     },
     "execution_count": 3,
     "metadata": {},
     "output_type": "execute_result"
    }
   ],
   "source": [
    "u.lightyear"
   ]
  },
  {
   "cell_type": "code",
   "execution_count": 6,
   "metadata": {},
   "outputs": [
    {
     "data": {
      "text/latex": [
       "$3261.5638 \\; \\mathrm{lyr}$"
      ],
      "text/plain": [
       "<Quantity 3261.56377714 lyr>"
      ]
     },
     "execution_count": 6,
     "metadata": {},
     "output_type": "execute_result"
    }
   ],
   "source": [
    "c.kpc.to('lightyear')"
   ]
  },
  {
   "cell_type": "code",
   "execution_count": 4,
   "metadata": {},
   "outputs": [
    {
     "data": {
      "text/latex": [
       "$1.5812507 \\times 10^{-5} \\; \\mathrm{lyr}$"
      ],
      "text/plain": [
       "<Quantity 1.58125074e-05 lyr>"
      ]
     },
     "execution_count": 4,
     "metadata": {},
     "output_type": "execute_result"
    }
   ],
   "source": [
    "c.au.to('lightyear')"
   ]
  },
  {
   "cell_type": "code",
   "execution_count": 11,
   "metadata": {},
   "outputs": [
    {
     "data": {
      "text/latex": [
       "$63241.077 \\; \\mathrm{AU}$"
      ],
      "text/plain": [
       "<Quantity 63241.07708427 AU>"
      ]
     },
     "execution_count": 11,
     "metadata": {},
     "output_type": "execute_result"
    }
   ],
   "source": [
    "(c.c*u.year).to('au')"
   ]
  },
  {
   "cell_type": "code",
   "execution_count": null,
   "metadata": {},
   "outputs": [],
   "source": []
  }
 ],
 "metadata": {
  "kernelspec": {
   "display_name": "Python 3",
   "language": "python",
   "name": "python3"
  },
  "language_info": {
   "codemirror_mode": {
    "name": "ipython",
    "version": 3
   },
   "file_extension": ".py",
   "mimetype": "text/x-python",
   "name": "python",
   "nbconvert_exporter": "python",
   "pygments_lexer": "ipython3",
   "version": "3.6.8"
  }
 },
 "nbformat": 4,
 "nbformat_minor": 4
}
