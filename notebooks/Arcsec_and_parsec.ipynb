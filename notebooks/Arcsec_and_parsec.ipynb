{
 "cells": [
  {
   "cell_type": "markdown",
   "metadata": {},
   "source": [
    "# Arcseconds and parsec"
   ]
  },
  {
   "cell_type": "code",
   "execution_count": 1,
   "metadata": {},
   "outputs": [
    {
     "name": "stdout",
     "output_type": "stream",
     "text": [
      "Populating the interactive namespace from numpy and matplotlib\n"
     ]
    }
   ],
   "source": [
    "%pylab nbagg"
   ]
  },
  {
   "cell_type": "code",
   "execution_count": 2,
   "metadata": {},
   "outputs": [],
   "source": [
    "from astropy import units\n",
    "from astropy import constants"
   ]
  },
  {
   "cell_type": "markdown",
   "metadata": {},
   "source": [
    "By default the sin function takes the angle in units of radians where a complete turn of $2\\pi \\, \\mathrm{rad}$ corresponds to $360^{\\circ}$. For example, $90^{\\circ}$ corresponds to $\\frac{1}{2}\\pi \\, \\mathrm{rad}$:"
   ]
  },
  {
   "cell_type": "code",
   "execution_count": 3,
   "metadata": {},
   "outputs": [
    {
     "data": {
      "text/plain": [
       "1.0"
      ]
     },
     "execution_count": 3,
     "metadata": {},
     "output_type": "execute_result"
    }
   ],
   "source": [
    "sin(0.5*pi)"
   ]
  },
  {
   "cell_type": "markdown",
   "metadata": {},
   "source": [
    "Another measure for angle are minutes and seconds. 60 minutes are one degree."
   ]
  },
  {
   "cell_type": "code",
   "execution_count": 4,
   "metadata": {},
   "outputs": [],
   "source": [
    "a=90*60*units.arcmin"
   ]
  },
  {
   "cell_type": "code",
   "execution_count": 5,
   "metadata": {},
   "outputs": [
    {
     "data": {
      "text/latex": [
       "$1 \\; \\mathrm{}$"
      ],
      "text/plain": [
       "<Quantity 1.>"
      ]
     },
     "execution_count": 5,
     "metadata": {},
     "output_type": "execute_result"
    }
   ],
   "source": [
    "sin(a)"
   ]
  },
  {
   "cell_type": "code",
   "execution_count": 6,
   "metadata": {},
   "outputs": [],
   "source": [
    "a=90*3600*units.arcsec"
   ]
  },
  {
   "cell_type": "code",
   "execution_count": 7,
   "metadata": {},
   "outputs": [
    {
     "data": {
      "text/latex": [
       "$1 \\; \\mathrm{}$"
      ],
      "text/plain": [
       "<Quantity 1.>"
      ]
     },
     "execution_count": 7,
     "metadata": {},
     "output_type": "execute_result"
    }
   ],
   "source": [
    "sin(a)"
   ]
  },
  {
   "cell_type": "markdown",
   "metadata": {},
   "source": [
    "One arcsec is very small, and the sin of one arcsec is very small:"
   ]
  },
  {
   "cell_type": "code",
   "execution_count": 8,
   "metadata": {},
   "outputs": [
    {
     "data": {
      "text/latex": [
       "$4.8481368 \\times 10^{-6} \\; \\mathrm{}$"
      ],
      "text/plain": [
       "<Quantity 4.84813681e-06>"
      ]
     },
     "execution_count": 8,
     "metadata": {},
     "output_type": "execute_result"
    }
   ],
   "source": [
    "sin(1*units.arcsec)"
   ]
  },
  {
   "cell_type": "markdown",
   "metadata": {},
   "source": [
    "sin(45 deg):"
   ]
  },
  {
   "cell_type": "code",
   "execution_count": 9,
   "metadata": {},
   "outputs": [
    {
     "data": {
      "text/plain": [
       "0.7071067811865475"
      ]
     },
     "execution_count": 9,
     "metadata": {},
     "output_type": "execute_result"
    }
   ],
   "source": [
    "sin(pi/4.)"
   ]
  },
  {
   "cell_type": "code",
   "execution_count": 10,
   "metadata": {},
   "outputs": [
    {
     "data": {
      "text/plain": [
       "0.7071067811865475"
      ]
     },
     "execution_count": 10,
     "metadata": {},
     "output_type": "execute_result"
    }
   ],
   "source": [
    "1/sqrt(2)"
   ]
  },
  {
   "cell_type": "markdown",
   "metadata": {},
   "source": [
    "Convert units conveniently with the unit package, for example one arcmin in rad:"
   ]
  },
  {
   "cell_type": "code",
   "execution_count": 11,
   "metadata": {},
   "outputs": [
    {
     "data": {
      "text/plain": [
       "0.0002908882086657216"
      ]
     },
     "execution_count": 11,
     "metadata": {},
     "output_type": "execute_result"
    }
   ],
   "source": [
    "units.arcmin.to('rad')"
   ]
  },
  {
   "cell_type": "markdown",
   "metadata": {},
   "source": [
    "In order to make a plot we create an array containing numbers with units:"
   ]
  },
  {
   "cell_type": "code",
   "execution_count": 12,
   "metadata": {},
   "outputs": [],
   "source": [
    "a = linspace(0,90*60*units.arcmin,100)"
   ]
  },
  {
   "cell_type": "markdown",
   "metadata": {},
   "source": [
    "The 10$^\\mathrm{th}$ element of the angle array $a$:"
   ]
  },
  {
   "cell_type": "code",
   "execution_count": 13,
   "metadata": {},
   "outputs": [
    {
     "data": {
      "text/latex": [
       "$545.45455 \\; \\mathrm{{}^{\\prime}}$"
      ],
      "text/plain": [
       "<Quantity 545.45454545 arcmin>"
      ]
     },
     "execution_count": 13,
     "metadata": {},
     "output_type": "execute_result"
    }
   ],
   "source": [
    "a[10]"
   ]
  },
  {
   "cell_type": "markdown",
   "metadata": {},
   "source": [
    "Note how the unit of angle is changed when plotting the second line:"
   ]
  },
  {
   "cell_type": "code",
   "execution_count": 14,
   "metadata": {},
   "outputs": [
    {
     "data": {
      "application/javascript": [
       "/* Put everything inside the global mpl namespace */\n",
       "window.mpl = {};\n",
       "\n",
       "\n",
       "mpl.get_websocket_type = function() {\n",
       "    if (typeof(WebSocket) !== 'undefined') {\n",
       "        return WebSocket;\n",
       "    } else if (typeof(MozWebSocket) !== 'undefined') {\n",
       "        return MozWebSocket;\n",
       "    } else {\n",
       "        alert('Your browser does not have WebSocket support. ' +\n",
       "              'Please try Chrome, Safari or Firefox ≥ 6. ' +\n",
       "              'Firefox 4 and 5 are also supported but you ' +\n",
       "              'have to enable WebSockets in about:config.');\n",
       "    };\n",
       "}\n",
       "\n",
       "mpl.figure = function(figure_id, websocket, ondownload, parent_element) {\n",
       "    this.id = figure_id;\n",
       "\n",
       "    this.ws = websocket;\n",
       "\n",
       "    this.supports_binary = (this.ws.binaryType != undefined);\n",
       "\n",
       "    if (!this.supports_binary) {\n",
       "        var warnings = document.getElementById(\"mpl-warnings\");\n",
       "        if (warnings) {\n",
       "            warnings.style.display = 'block';\n",
       "            warnings.textContent = (\n",
       "                \"This browser does not support binary websocket messages. \" +\n",
       "                    \"Performance may be slow.\");\n",
       "        }\n",
       "    }\n",
       "\n",
       "    this.imageObj = new Image();\n",
       "\n",
       "    this.context = undefined;\n",
       "    this.message = undefined;\n",
       "    this.canvas = undefined;\n",
       "    this.rubberband_canvas = undefined;\n",
       "    this.rubberband_context = undefined;\n",
       "    this.format_dropdown = undefined;\n",
       "\n",
       "    this.image_mode = 'full';\n",
       "\n",
       "    this.root = $('<div/>');\n",
       "    this._root_extra_style(this.root)\n",
       "    this.root.attr('style', 'display: inline-block');\n",
       "\n",
       "    $(parent_element).append(this.root);\n",
       "\n",
       "    this._init_header(this);\n",
       "    this._init_canvas(this);\n",
       "    this._init_toolbar(this);\n",
       "\n",
       "    var fig = this;\n",
       "\n",
       "    this.waiting = false;\n",
       "\n",
       "    this.ws.onopen =  function () {\n",
       "            fig.send_message(\"supports_binary\", {value: fig.supports_binary});\n",
       "            fig.send_message(\"send_image_mode\", {});\n",
       "            if (mpl.ratio != 1) {\n",
       "                fig.send_message(\"set_dpi_ratio\", {'dpi_ratio': mpl.ratio});\n",
       "            }\n",
       "            fig.send_message(\"refresh\", {});\n",
       "        }\n",
       "\n",
       "    this.imageObj.onload = function() {\n",
       "            if (fig.image_mode == 'full') {\n",
       "                // Full images could contain transparency (where diff images\n",
       "                // almost always do), so we need to clear the canvas so that\n",
       "                // there is no ghosting.\n",
       "                fig.context.clearRect(0, 0, fig.canvas.width, fig.canvas.height);\n",
       "            }\n",
       "            fig.context.drawImage(fig.imageObj, 0, 0);\n",
       "        };\n",
       "\n",
       "    this.imageObj.onunload = function() {\n",
       "        fig.ws.close();\n",
       "    }\n",
       "\n",
       "    this.ws.onmessage = this._make_on_message_function(this);\n",
       "\n",
       "    this.ondownload = ondownload;\n",
       "}\n",
       "\n",
       "mpl.figure.prototype._init_header = function() {\n",
       "    var titlebar = $(\n",
       "        '<div class=\"ui-dialog-titlebar ui-widget-header ui-corner-all ' +\n",
       "        'ui-helper-clearfix\"/>');\n",
       "    var titletext = $(\n",
       "        '<div class=\"ui-dialog-title\" style=\"width: 100%; ' +\n",
       "        'text-align: center; padding: 3px;\"/>');\n",
       "    titlebar.append(titletext)\n",
       "    this.root.append(titlebar);\n",
       "    this.header = titletext[0];\n",
       "}\n",
       "\n",
       "\n",
       "\n",
       "mpl.figure.prototype._canvas_extra_style = function(canvas_div) {\n",
       "\n",
       "}\n",
       "\n",
       "\n",
       "mpl.figure.prototype._root_extra_style = function(canvas_div) {\n",
       "\n",
       "}\n",
       "\n",
       "mpl.figure.prototype._init_canvas = function() {\n",
       "    var fig = this;\n",
       "\n",
       "    var canvas_div = $('<div/>');\n",
       "\n",
       "    canvas_div.attr('style', 'position: relative; clear: both; outline: 0');\n",
       "\n",
       "    function canvas_keyboard_event(event) {\n",
       "        return fig.key_event(event, event['data']);\n",
       "    }\n",
       "\n",
       "    canvas_div.keydown('key_press', canvas_keyboard_event);\n",
       "    canvas_div.keyup('key_release', canvas_keyboard_event);\n",
       "    this.canvas_div = canvas_div\n",
       "    this._canvas_extra_style(canvas_div)\n",
       "    this.root.append(canvas_div);\n",
       "\n",
       "    var canvas = $('<canvas/>');\n",
       "    canvas.addClass('mpl-canvas');\n",
       "    canvas.attr('style', \"left: 0; top: 0; z-index: 0; outline: 0\")\n",
       "\n",
       "    this.canvas = canvas[0];\n",
       "    this.context = canvas[0].getContext(\"2d\");\n",
       "\n",
       "    var backingStore = this.context.backingStorePixelRatio ||\n",
       "\tthis.context.webkitBackingStorePixelRatio ||\n",
       "\tthis.context.mozBackingStorePixelRatio ||\n",
       "\tthis.context.msBackingStorePixelRatio ||\n",
       "\tthis.context.oBackingStorePixelRatio ||\n",
       "\tthis.context.backingStorePixelRatio || 1;\n",
       "\n",
       "    mpl.ratio = (window.devicePixelRatio || 1) / backingStore;\n",
       "\n",
       "    var rubberband = $('<canvas/>');\n",
       "    rubberband.attr('style', \"position: absolute; left: 0; top: 0; z-index: 1;\")\n",
       "\n",
       "    var pass_mouse_events = true;\n",
       "\n",
       "    canvas_div.resizable({\n",
       "        start: function(event, ui) {\n",
       "            pass_mouse_events = false;\n",
       "        },\n",
       "        resize: function(event, ui) {\n",
       "            fig.request_resize(ui.size.width, ui.size.height);\n",
       "        },\n",
       "        stop: function(event, ui) {\n",
       "            pass_mouse_events = true;\n",
       "            fig.request_resize(ui.size.width, ui.size.height);\n",
       "        },\n",
       "    });\n",
       "\n",
       "    function mouse_event_fn(event) {\n",
       "        if (pass_mouse_events)\n",
       "            return fig.mouse_event(event, event['data']);\n",
       "    }\n",
       "\n",
       "    rubberband.mousedown('button_press', mouse_event_fn);\n",
       "    rubberband.mouseup('button_release', mouse_event_fn);\n",
       "    // Throttle sequential mouse events to 1 every 20ms.\n",
       "    rubberband.mousemove('motion_notify', mouse_event_fn);\n",
       "\n",
       "    rubberband.mouseenter('figure_enter', mouse_event_fn);\n",
       "    rubberband.mouseleave('figure_leave', mouse_event_fn);\n",
       "\n",
       "    canvas_div.on(\"wheel\", function (event) {\n",
       "        event = event.originalEvent;\n",
       "        event['data'] = 'scroll'\n",
       "        if (event.deltaY < 0) {\n",
       "            event.step = 1;\n",
       "        } else {\n",
       "            event.step = -1;\n",
       "        }\n",
       "        mouse_event_fn(event);\n",
       "    });\n",
       "\n",
       "    canvas_div.append(canvas);\n",
       "    canvas_div.append(rubberband);\n",
       "\n",
       "    this.rubberband = rubberband;\n",
       "    this.rubberband_canvas = rubberband[0];\n",
       "    this.rubberband_context = rubberband[0].getContext(\"2d\");\n",
       "    this.rubberband_context.strokeStyle = \"#000000\";\n",
       "\n",
       "    this._resize_canvas = function(width, height) {\n",
       "        // Keep the size of the canvas, canvas container, and rubber band\n",
       "        // canvas in synch.\n",
       "        canvas_div.css('width', width)\n",
       "        canvas_div.css('height', height)\n",
       "\n",
       "        canvas.attr('width', width * mpl.ratio);\n",
       "        canvas.attr('height', height * mpl.ratio);\n",
       "        canvas.attr('style', 'width: ' + width + 'px; height: ' + height + 'px;');\n",
       "\n",
       "        rubberband.attr('width', width);\n",
       "        rubberband.attr('height', height);\n",
       "    }\n",
       "\n",
       "    // Set the figure to an initial 600x600px, this will subsequently be updated\n",
       "    // upon first draw.\n",
       "    this._resize_canvas(600, 600);\n",
       "\n",
       "    // Disable right mouse context menu.\n",
       "    $(this.rubberband_canvas).bind(\"contextmenu\",function(e){\n",
       "        return false;\n",
       "    });\n",
       "\n",
       "    function set_focus () {\n",
       "        canvas.focus();\n",
       "        canvas_div.focus();\n",
       "    }\n",
       "\n",
       "    window.setTimeout(set_focus, 100);\n",
       "}\n",
       "\n",
       "mpl.figure.prototype._init_toolbar = function() {\n",
       "    var fig = this;\n",
       "\n",
       "    var nav_element = $('<div/>');\n",
       "    nav_element.attr('style', 'width: 100%');\n",
       "    this.root.append(nav_element);\n",
       "\n",
       "    // Define a callback function for later on.\n",
       "    function toolbar_event(event) {\n",
       "        return fig.toolbar_button_onclick(event['data']);\n",
       "    }\n",
       "    function toolbar_mouse_event(event) {\n",
       "        return fig.toolbar_button_onmouseover(event['data']);\n",
       "    }\n",
       "\n",
       "    for(var toolbar_ind in mpl.toolbar_items) {\n",
       "        var name = mpl.toolbar_items[toolbar_ind][0];\n",
       "        var tooltip = mpl.toolbar_items[toolbar_ind][1];\n",
       "        var image = mpl.toolbar_items[toolbar_ind][2];\n",
       "        var method_name = mpl.toolbar_items[toolbar_ind][3];\n",
       "\n",
       "        if (!name) {\n",
       "            // put a spacer in here.\n",
       "            continue;\n",
       "        }\n",
       "        var button = $('<button/>');\n",
       "        button.addClass('ui-button ui-widget ui-state-default ui-corner-all ' +\n",
       "                        'ui-button-icon-only');\n",
       "        button.attr('role', 'button');\n",
       "        button.attr('aria-disabled', 'false');\n",
       "        button.click(method_name, toolbar_event);\n",
       "        button.mouseover(tooltip, toolbar_mouse_event);\n",
       "\n",
       "        var icon_img = $('<span/>');\n",
       "        icon_img.addClass('ui-button-icon-primary ui-icon');\n",
       "        icon_img.addClass(image);\n",
       "        icon_img.addClass('ui-corner-all');\n",
       "\n",
       "        var tooltip_span = $('<span/>');\n",
       "        tooltip_span.addClass('ui-button-text');\n",
       "        tooltip_span.html(tooltip);\n",
       "\n",
       "        button.append(icon_img);\n",
       "        button.append(tooltip_span);\n",
       "\n",
       "        nav_element.append(button);\n",
       "    }\n",
       "\n",
       "    var fmt_picker_span = $('<span/>');\n",
       "\n",
       "    var fmt_picker = $('<select/>');\n",
       "    fmt_picker.addClass('mpl-toolbar-option ui-widget ui-widget-content');\n",
       "    fmt_picker_span.append(fmt_picker);\n",
       "    nav_element.append(fmt_picker_span);\n",
       "    this.format_dropdown = fmt_picker[0];\n",
       "\n",
       "    for (var ind in mpl.extensions) {\n",
       "        var fmt = mpl.extensions[ind];\n",
       "        var option = $(\n",
       "            '<option/>', {selected: fmt === mpl.default_extension}).html(fmt);\n",
       "        fmt_picker.append(option);\n",
       "    }\n",
       "\n",
       "    // Add hover states to the ui-buttons\n",
       "    $( \".ui-button\" ).hover(\n",
       "        function() { $(this).addClass(\"ui-state-hover\");},\n",
       "        function() { $(this).removeClass(\"ui-state-hover\");}\n",
       "    );\n",
       "\n",
       "    var status_bar = $('<span class=\"mpl-message\"/>');\n",
       "    nav_element.append(status_bar);\n",
       "    this.message = status_bar[0];\n",
       "}\n",
       "\n",
       "mpl.figure.prototype.request_resize = function(x_pixels, y_pixels) {\n",
       "    // Request matplotlib to resize the figure. Matplotlib will then trigger a resize in the client,\n",
       "    // which will in turn request a refresh of the image.\n",
       "    this.send_message('resize', {'width': x_pixels, 'height': y_pixels});\n",
       "}\n",
       "\n",
       "mpl.figure.prototype.send_message = function(type, properties) {\n",
       "    properties['type'] = type;\n",
       "    properties['figure_id'] = this.id;\n",
       "    this.ws.send(JSON.stringify(properties));\n",
       "}\n",
       "\n",
       "mpl.figure.prototype.send_draw_message = function() {\n",
       "    if (!this.waiting) {\n",
       "        this.waiting = true;\n",
       "        this.ws.send(JSON.stringify({type: \"draw\", figure_id: this.id}));\n",
       "    }\n",
       "}\n",
       "\n",
       "\n",
       "mpl.figure.prototype.handle_save = function(fig, msg) {\n",
       "    var format_dropdown = fig.format_dropdown;\n",
       "    var format = format_dropdown.options[format_dropdown.selectedIndex].value;\n",
       "    fig.ondownload(fig, format);\n",
       "}\n",
       "\n",
       "\n",
       "mpl.figure.prototype.handle_resize = function(fig, msg) {\n",
       "    var size = msg['size'];\n",
       "    if (size[0] != fig.canvas.width || size[1] != fig.canvas.height) {\n",
       "        fig._resize_canvas(size[0], size[1]);\n",
       "        fig.send_message(\"refresh\", {});\n",
       "    };\n",
       "}\n",
       "\n",
       "mpl.figure.prototype.handle_rubberband = function(fig, msg) {\n",
       "    var x0 = msg['x0'] / mpl.ratio;\n",
       "    var y0 = (fig.canvas.height - msg['y0']) / mpl.ratio;\n",
       "    var x1 = msg['x1'] / mpl.ratio;\n",
       "    var y1 = (fig.canvas.height - msg['y1']) / mpl.ratio;\n",
       "    x0 = Math.floor(x0) + 0.5;\n",
       "    y0 = Math.floor(y0) + 0.5;\n",
       "    x1 = Math.floor(x1) + 0.5;\n",
       "    y1 = Math.floor(y1) + 0.5;\n",
       "    var min_x = Math.min(x0, x1);\n",
       "    var min_y = Math.min(y0, y1);\n",
       "    var width = Math.abs(x1 - x0);\n",
       "    var height = Math.abs(y1 - y0);\n",
       "\n",
       "    fig.rubberband_context.clearRect(\n",
       "        0, 0, fig.canvas.width / mpl.ratio, fig.canvas.height / mpl.ratio);\n",
       "\n",
       "    fig.rubberband_context.strokeRect(min_x, min_y, width, height);\n",
       "}\n",
       "\n",
       "mpl.figure.prototype.handle_figure_label = function(fig, msg) {\n",
       "    // Updates the figure title.\n",
       "    fig.header.textContent = msg['label'];\n",
       "}\n",
       "\n",
       "mpl.figure.prototype.handle_cursor = function(fig, msg) {\n",
       "    var cursor = msg['cursor'];\n",
       "    switch(cursor)\n",
       "    {\n",
       "    case 0:\n",
       "        cursor = 'pointer';\n",
       "        break;\n",
       "    case 1:\n",
       "        cursor = 'default';\n",
       "        break;\n",
       "    case 2:\n",
       "        cursor = 'crosshair';\n",
       "        break;\n",
       "    case 3:\n",
       "        cursor = 'move';\n",
       "        break;\n",
       "    }\n",
       "    fig.rubberband_canvas.style.cursor = cursor;\n",
       "}\n",
       "\n",
       "mpl.figure.prototype.handle_message = function(fig, msg) {\n",
       "    fig.message.textContent = msg['message'];\n",
       "}\n",
       "\n",
       "mpl.figure.prototype.handle_draw = function(fig, msg) {\n",
       "    // Request the server to send over a new figure.\n",
       "    fig.send_draw_message();\n",
       "}\n",
       "\n",
       "mpl.figure.prototype.handle_image_mode = function(fig, msg) {\n",
       "    fig.image_mode = msg['mode'];\n",
       "}\n",
       "\n",
       "mpl.figure.prototype.updated_canvas_event = function() {\n",
       "    // Called whenever the canvas gets updated.\n",
       "    this.send_message(\"ack\", {});\n",
       "}\n",
       "\n",
       "// A function to construct a web socket function for onmessage handling.\n",
       "// Called in the figure constructor.\n",
       "mpl.figure.prototype._make_on_message_function = function(fig) {\n",
       "    return function socket_on_message(evt) {\n",
       "        if (evt.data instanceof Blob) {\n",
       "            /* FIXME: We get \"Resource interpreted as Image but\n",
       "             * transferred with MIME type text/plain:\" errors on\n",
       "             * Chrome.  But how to set the MIME type?  It doesn't seem\n",
       "             * to be part of the websocket stream */\n",
       "            evt.data.type = \"image/png\";\n",
       "\n",
       "            /* Free the memory for the previous frames */\n",
       "            if (fig.imageObj.src) {\n",
       "                (window.URL || window.webkitURL).revokeObjectURL(\n",
       "                    fig.imageObj.src);\n",
       "            }\n",
       "\n",
       "            fig.imageObj.src = (window.URL || window.webkitURL).createObjectURL(\n",
       "                evt.data);\n",
       "            fig.updated_canvas_event();\n",
       "            fig.waiting = false;\n",
       "            return;\n",
       "        }\n",
       "        else if (typeof evt.data === 'string' && evt.data.slice(0, 21) == \"data:image/png;base64\") {\n",
       "            fig.imageObj.src = evt.data;\n",
       "            fig.updated_canvas_event();\n",
       "            fig.waiting = false;\n",
       "            return;\n",
       "        }\n",
       "\n",
       "        var msg = JSON.parse(evt.data);\n",
       "        var msg_type = msg['type'];\n",
       "\n",
       "        // Call the  \"handle_{type}\" callback, which takes\n",
       "        // the figure and JSON message as its only arguments.\n",
       "        try {\n",
       "            var callback = fig[\"handle_\" + msg_type];\n",
       "        } catch (e) {\n",
       "            console.log(\"No handler for the '\" + msg_type + \"' message type: \", msg);\n",
       "            return;\n",
       "        }\n",
       "\n",
       "        if (callback) {\n",
       "            try {\n",
       "                // console.log(\"Handling '\" + msg_type + \"' message: \", msg);\n",
       "                callback(fig, msg);\n",
       "            } catch (e) {\n",
       "                console.log(\"Exception inside the 'handler_\" + msg_type + \"' callback:\", e, e.stack, msg);\n",
       "            }\n",
       "        }\n",
       "    };\n",
       "}\n",
       "\n",
       "// from http://stackoverflow.com/questions/1114465/getting-mouse-location-in-canvas\n",
       "mpl.findpos = function(e) {\n",
       "    //this section is from http://www.quirksmode.org/js/events_properties.html\n",
       "    var targ;\n",
       "    if (!e)\n",
       "        e = window.event;\n",
       "    if (e.target)\n",
       "        targ = e.target;\n",
       "    else if (e.srcElement)\n",
       "        targ = e.srcElement;\n",
       "    if (targ.nodeType == 3) // defeat Safari bug\n",
       "        targ = targ.parentNode;\n",
       "\n",
       "    // jQuery normalizes the pageX and pageY\n",
       "    // pageX,Y are the mouse positions relative to the document\n",
       "    // offset() returns the position of the element relative to the document\n",
       "    var x = e.pageX - $(targ).offset().left;\n",
       "    var y = e.pageY - $(targ).offset().top;\n",
       "\n",
       "    return {\"x\": x, \"y\": y};\n",
       "};\n",
       "\n",
       "/*\n",
       " * return a copy of an object with only non-object keys\n",
       " * we need this to avoid circular references\n",
       " * http://stackoverflow.com/a/24161582/3208463\n",
       " */\n",
       "function simpleKeys (original) {\n",
       "  return Object.keys(original).reduce(function (obj, key) {\n",
       "    if (typeof original[key] !== 'object')\n",
       "        obj[key] = original[key]\n",
       "    return obj;\n",
       "  }, {});\n",
       "}\n",
       "\n",
       "mpl.figure.prototype.mouse_event = function(event, name) {\n",
       "    var canvas_pos = mpl.findpos(event)\n",
       "\n",
       "    if (name === 'button_press')\n",
       "    {\n",
       "        this.canvas.focus();\n",
       "        this.canvas_div.focus();\n",
       "    }\n",
       "\n",
       "    var x = canvas_pos.x * mpl.ratio;\n",
       "    var y = canvas_pos.y * mpl.ratio;\n",
       "\n",
       "    this.send_message(name, {x: x, y: y, button: event.button,\n",
       "                             step: event.step,\n",
       "                             guiEvent: simpleKeys(event)});\n",
       "\n",
       "    /* This prevents the web browser from automatically changing to\n",
       "     * the text insertion cursor when the button is pressed.  We want\n",
       "     * to control all of the cursor setting manually through the\n",
       "     * 'cursor' event from matplotlib */\n",
       "    event.preventDefault();\n",
       "    return false;\n",
       "}\n",
       "\n",
       "mpl.figure.prototype._key_event_extra = function(event, name) {\n",
       "    // Handle any extra behaviour associated with a key event\n",
       "}\n",
       "\n",
       "mpl.figure.prototype.key_event = function(event, name) {\n",
       "\n",
       "    // Prevent repeat events\n",
       "    if (name == 'key_press')\n",
       "    {\n",
       "        if (event.which === this._key)\n",
       "            return;\n",
       "        else\n",
       "            this._key = event.which;\n",
       "    }\n",
       "    if (name == 'key_release')\n",
       "        this._key = null;\n",
       "\n",
       "    var value = '';\n",
       "    if (event.ctrlKey && event.which != 17)\n",
       "        value += \"ctrl+\";\n",
       "    if (event.altKey && event.which != 18)\n",
       "        value += \"alt+\";\n",
       "    if (event.shiftKey && event.which != 16)\n",
       "        value += \"shift+\";\n",
       "\n",
       "    value += 'k';\n",
       "    value += event.which.toString();\n",
       "\n",
       "    this._key_event_extra(event, name);\n",
       "\n",
       "    this.send_message(name, {key: value,\n",
       "                             guiEvent: simpleKeys(event)});\n",
       "    return false;\n",
       "}\n",
       "\n",
       "mpl.figure.prototype.toolbar_button_onclick = function(name) {\n",
       "    if (name == 'download') {\n",
       "        this.handle_save(this, null);\n",
       "    } else {\n",
       "        this.send_message(\"toolbar_button\", {name: name});\n",
       "    }\n",
       "};\n",
       "\n",
       "mpl.figure.prototype.toolbar_button_onmouseover = function(tooltip) {\n",
       "    this.message.textContent = tooltip;\n",
       "};\n",
       "mpl.toolbar_items = [[\"Home\", \"Reset original view\", \"fa fa-home icon-home\", \"home\"], [\"Back\", \"Back to previous view\", \"fa fa-arrow-left icon-arrow-left\", \"back\"], [\"Forward\", \"Forward to next view\", \"fa fa-arrow-right icon-arrow-right\", \"forward\"], [\"\", \"\", \"\", \"\"], [\"Pan\", \"Pan axes with left mouse, zoom with right\", \"fa fa-arrows icon-move\", \"pan\"], [\"Zoom\", \"Zoom to rectangle\", \"fa fa-square-o icon-check-empty\", \"zoom\"], [\"\", \"\", \"\", \"\"], [\"Download\", \"Download plot\", \"fa fa-floppy-o icon-save\", \"download\"]];\n",
       "\n",
       "mpl.extensions = [\"eps\", \"jpeg\", \"pdf\", \"png\", \"ps\", \"raw\", \"svg\", \"tif\"];\n",
       "\n",
       "mpl.default_extension = \"png\";var comm_websocket_adapter = function(comm) {\n",
       "    // Create a \"websocket\"-like object which calls the given IPython comm\n",
       "    // object with the appropriate methods. Currently this is a non binary\n",
       "    // socket, so there is still some room for performance tuning.\n",
       "    var ws = {};\n",
       "\n",
       "    ws.close = function() {\n",
       "        comm.close()\n",
       "    };\n",
       "    ws.send = function(m) {\n",
       "        //console.log('sending', m);\n",
       "        comm.send(m);\n",
       "    };\n",
       "    // Register the callback with on_msg.\n",
       "    comm.on_msg(function(msg) {\n",
       "        //console.log('receiving', msg['content']['data'], msg);\n",
       "        // Pass the mpl event to the overridden (by mpl) onmessage function.\n",
       "        ws.onmessage(msg['content']['data'])\n",
       "    });\n",
       "    return ws;\n",
       "}\n",
       "\n",
       "mpl.mpl_figure_comm = function(comm, msg) {\n",
       "    // This is the function which gets called when the mpl process\n",
       "    // starts-up an IPython Comm through the \"matplotlib\" channel.\n",
       "\n",
       "    var id = msg.content.data.id;\n",
       "    // Get hold of the div created by the display call when the Comm\n",
       "    // socket was opened in Python.\n",
       "    var element = $(\"#\" + id);\n",
       "    var ws_proxy = comm_websocket_adapter(comm)\n",
       "\n",
       "    function ondownload(figure, format) {\n",
       "        window.open(figure.imageObj.src);\n",
       "    }\n",
       "\n",
       "    var fig = new mpl.figure(id, ws_proxy,\n",
       "                           ondownload,\n",
       "                           element.get(0));\n",
       "\n",
       "    // Call onopen now - mpl needs it, as it is assuming we've passed it a real\n",
       "    // web socket which is closed, not our websocket->open comm proxy.\n",
       "    ws_proxy.onopen();\n",
       "\n",
       "    fig.parent_element = element.get(0);\n",
       "    fig.cell_info = mpl.find_output_cell(\"<div id='\" + id + \"'></div>\");\n",
       "    if (!fig.cell_info) {\n",
       "        console.error(\"Failed to find cell for figure\", id, fig);\n",
       "        return;\n",
       "    }\n",
       "\n",
       "    var output_index = fig.cell_info[2]\n",
       "    var cell = fig.cell_info[0];\n",
       "\n",
       "};\n",
       "\n",
       "mpl.figure.prototype.handle_close = function(fig, msg) {\n",
       "    var width = fig.canvas.width/mpl.ratio\n",
       "    fig.root.unbind('remove')\n",
       "\n",
       "    // Update the output cell to use the data from the current canvas.\n",
       "    fig.push_to_output();\n",
       "    var dataURL = fig.canvas.toDataURL();\n",
       "    // Re-enable the keyboard manager in IPython - without this line, in FF,\n",
       "    // the notebook keyboard shortcuts fail.\n",
       "    IPython.keyboard_manager.enable()\n",
       "    $(fig.parent_element).html('<img src=\"' + dataURL + '\" width=\"' + width + '\">');\n",
       "    fig.close_ws(fig, msg);\n",
       "}\n",
       "\n",
       "mpl.figure.prototype.close_ws = function(fig, msg){\n",
       "    fig.send_message('closing', msg);\n",
       "    // fig.ws.close()\n",
       "}\n",
       "\n",
       "mpl.figure.prototype.push_to_output = function(remove_interactive) {\n",
       "    // Turn the data on the canvas into data in the output cell.\n",
       "    var width = this.canvas.width/mpl.ratio\n",
       "    var dataURL = this.canvas.toDataURL();\n",
       "    this.cell_info[1]['text/html'] = '<img src=\"' + dataURL + '\" width=\"' + width + '\">';\n",
       "}\n",
       "\n",
       "mpl.figure.prototype.updated_canvas_event = function() {\n",
       "    // Tell IPython that the notebook contents must change.\n",
       "    IPython.notebook.set_dirty(true);\n",
       "    this.send_message(\"ack\", {});\n",
       "    var fig = this;\n",
       "    // Wait a second, then push the new image to the DOM so\n",
       "    // that it is saved nicely (might be nice to debounce this).\n",
       "    setTimeout(function () { fig.push_to_output() }, 1000);\n",
       "}\n",
       "\n",
       "mpl.figure.prototype._init_toolbar = function() {\n",
       "    var fig = this;\n",
       "\n",
       "    var nav_element = $('<div/>');\n",
       "    nav_element.attr('style', 'width: 100%');\n",
       "    this.root.append(nav_element);\n",
       "\n",
       "    // Define a callback function for later on.\n",
       "    function toolbar_event(event) {\n",
       "        return fig.toolbar_button_onclick(event['data']);\n",
       "    }\n",
       "    function toolbar_mouse_event(event) {\n",
       "        return fig.toolbar_button_onmouseover(event['data']);\n",
       "    }\n",
       "\n",
       "    for(var toolbar_ind in mpl.toolbar_items){\n",
       "        var name = mpl.toolbar_items[toolbar_ind][0];\n",
       "        var tooltip = mpl.toolbar_items[toolbar_ind][1];\n",
       "        var image = mpl.toolbar_items[toolbar_ind][2];\n",
       "        var method_name = mpl.toolbar_items[toolbar_ind][3];\n",
       "\n",
       "        if (!name) { continue; };\n",
       "\n",
       "        var button = $('<button class=\"btn btn-default\" href=\"#\" title=\"' + name + '\"><i class=\"fa ' + image + ' fa-lg\"></i></button>');\n",
       "        button.click(method_name, toolbar_event);\n",
       "        button.mouseover(tooltip, toolbar_mouse_event);\n",
       "        nav_element.append(button);\n",
       "    }\n",
       "\n",
       "    // Add the status bar.\n",
       "    var status_bar = $('<span class=\"mpl-message\" style=\"text-align:right; float: right;\"/>');\n",
       "    nav_element.append(status_bar);\n",
       "    this.message = status_bar[0];\n",
       "\n",
       "    // Add the close button to the window.\n",
       "    var buttongrp = $('<div class=\"btn-group inline pull-right\"></div>');\n",
       "    var button = $('<button class=\"btn btn-mini btn-primary\" href=\"#\" title=\"Stop Interaction\"><i class=\"fa fa-power-off icon-remove icon-large\"></i></button>');\n",
       "    button.click(function (evt) { fig.handle_close(fig, {}); } );\n",
       "    button.mouseover('Stop Interaction', toolbar_mouse_event);\n",
       "    buttongrp.append(button);\n",
       "    var titlebar = this.root.find($('.ui-dialog-titlebar'));\n",
       "    titlebar.prepend(buttongrp);\n",
       "}\n",
       "\n",
       "mpl.figure.prototype._root_extra_style = function(el){\n",
       "    var fig = this\n",
       "    el.on(\"remove\", function(){\n",
       "\tfig.close_ws(fig, {});\n",
       "    });\n",
       "}\n",
       "\n",
       "mpl.figure.prototype._canvas_extra_style = function(el){\n",
       "    // this is important to make the div 'focusable\n",
       "    el.attr('tabindex', 0)\n",
       "    // reach out to IPython and tell the keyboard manager to turn it's self\n",
       "    // off when our div gets focus\n",
       "\n",
       "    // location in version 3\n",
       "    if (IPython.notebook.keyboard_manager) {\n",
       "        IPython.notebook.keyboard_manager.register_events(el);\n",
       "    }\n",
       "    else {\n",
       "        // location in version 2\n",
       "        IPython.keyboard_manager.register_events(el);\n",
       "    }\n",
       "\n",
       "}\n",
       "\n",
       "mpl.figure.prototype._key_event_extra = function(event, name) {\n",
       "    var manager = IPython.notebook.keyboard_manager;\n",
       "    if (!manager)\n",
       "        manager = IPython.keyboard_manager;\n",
       "\n",
       "    // Check for shift+enter\n",
       "    if (event.shiftKey && event.which == 13) {\n",
       "        this.canvas_div.blur();\n",
       "        event.shiftKey = false;\n",
       "        // Send a \"J\" for go to next cell\n",
       "        event.which = 74;\n",
       "        event.keyCode = 74;\n",
       "        manager.command_mode();\n",
       "        manager.handle_keydown(event);\n",
       "    }\n",
       "}\n",
       "\n",
       "mpl.figure.prototype.handle_save = function(fig, msg) {\n",
       "    fig.ondownload(fig, null);\n",
       "}\n",
       "\n",
       "\n",
       "mpl.find_output_cell = function(html_output) {\n",
       "    // Return the cell and output element which can be found *uniquely* in the notebook.\n",
       "    // Note - this is a bit hacky, but it is done because the \"notebook_saving.Notebook\"\n",
       "    // IPython event is triggered only after the cells have been serialised, which for\n",
       "    // our purposes (turning an active figure into a static one), is too late.\n",
       "    var cells = IPython.notebook.get_cells();\n",
       "    var ncells = cells.length;\n",
       "    for (var i=0; i<ncells; i++) {\n",
       "        var cell = cells[i];\n",
       "        if (cell.cell_type === 'code'){\n",
       "            for (var j=0; j<cell.output_area.outputs.length; j++) {\n",
       "                var data = cell.output_area.outputs[j];\n",
       "                if (data.data) {\n",
       "                    // IPython >= 3 moved mimebundle to data attribute of output\n",
       "                    data = data.data;\n",
       "                }\n",
       "                if (data['text/html'] == html_output) {\n",
       "                    return [cell, data, j];\n",
       "                }\n",
       "            }\n",
       "        }\n",
       "    }\n",
       "}\n",
       "\n",
       "// Register the function which deals with the matplotlib target/channel.\n",
       "// The kernel may be null if the page has been refreshed.\n",
       "if (IPython.notebook.kernel != null) {\n",
       "    IPython.notebook.kernel.comm_manager.register_target('matplotlib', mpl.mpl_figure_comm);\n",
       "}\n"
      ],
      "text/plain": [
       "<IPython.core.display.Javascript object>"
      ]
     },
     "metadata": {},
     "output_type": "display_data"
    },
    {
     "data": {
      "text/html": [
       "<img src=\"data:image/png;base64,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\" width=\"640\">"
      ],
      "text/plain": [
       "<IPython.core.display.HTML object>"
      ]
     },
     "metadata": {},
     "output_type": "display_data"
    },
    {
     "data": {
      "text/plain": [
       "<matplotlib.legend.Legend at 0x7f959421bc18>"
      ]
     },
     "execution_count": 14,
     "metadata": {},
     "output_type": "execute_result"
    }
   ],
   "source": [
    "close(1);figure(1)\n",
    "plot(a,sin(a),label=\"$ \\sin (\\\\alpha)$\")\n",
    "plot(a,a.to('rad'),'--',label=\"$ \\\\alpha \\mathrm{[rad]}$\")\n",
    "xlabel(\"$\\\\alpha [\\mathrm{'}]$\")\n",
    "legend()"
   ]
  },
  {
   "cell_type": "markdown",
   "metadata": {},
   "source": [
    "The key point is that for small $\\alpha$ (certainly a couple hundred arcmin) $\\sin(\\alpha) \\approx \\alpha$ is a very good approximation. "
   ]
  },
  {
   "cell_type": "markdown",
   "metadata": {},
   "source": [
    "## Astronomical unit\n",
    "\n"
   ]
  },
  {
   "cell_type": "code",
   "execution_count": 15,
   "metadata": {},
   "outputs": [
    {
     "data": {
      "text/latex": [
       "$1.4959787 \\times 10^{11} \\; \\mathrm{m}$"
      ],
      "text/plain": [
       "<<class 'astropy.constants.iau2015.IAU2015'> name='Astronomical Unit' value=149597870700.0 uncertainty=0.0 unit='m' reference='IAU 2012 Resolution B2'>"
      ]
     },
     "execution_count": 15,
     "metadata": {},
     "output_type": "execute_result"
    }
   ],
   "source": [
    "constants.au"
   ]
  },
  {
   "cell_type": "markdown",
   "metadata": {},
   "source": [
    "### Parsec\n",
    "The distance $D$ of an object from which one astronomical unit $AU$ is seen at an angle 1 arcsec. Because for such a small angle $\\sin(\\alpha) \\approx \\alpha$ we have\n",
    "for $\\alpha = 1\\mathrm{'} = 4.848\\times10^{-6}\\mathrm{rad}$ \n",
    "$$\n",
    "\\alpha \\approx \\sin \\alpha = \\frac{AU}{D}\n",
    "$$\n",
    "where we just need to remember that because $\\alpha$ as an argument of $\\sin$ must be in $\\mathrm{rad}$, $\\alpha$ on the far left of this equation must also be in radians."
   ]
  },
  {
   "cell_type": "code",
   "execution_count": 19,
   "metadata": {},
   "outputs": [],
   "source": [
    "alpha = 0.11*units.arcsec\n",
    "r  = alpha.to('rad').value * 8.5*units.kpc"
   ]
  },
  {
   "cell_type": "code",
   "execution_count": 20,
   "metadata": {},
   "outputs": [
    {
     "data": {
      "text/latex": [
       "$1.3987401 \\times 10^{14} \\; \\mathrm{m}$"
      ],
      "text/plain": [
       "<Quantity 1.39874009e+14 m>"
      ]
     },
     "execution_count": 20,
     "metadata": {},
     "output_type": "execute_result"
    }
   ],
   "source": [
    "r.to('m')"
   ]
  },
  {
   "cell_type": "code",
   "execution_count": 21,
   "metadata": {},
   "outputs": [
    {
     "data": {
      "text/plain": [
       "4.84813681109536e-06"
      ]
     },
     "execution_count": 21,
     "metadata": {},
     "output_type": "execute_result"
    }
   ],
   "source": [
    "# one arcsec in rad:\n",
    "units.arcsec.to('rad')"
   ]
  },
  {
   "cell_type": "code",
   "execution_count": 22,
   "metadata": {},
   "outputs": [
    {
     "data": {
      "text/plain": [
       "206264.80624709636"
      ]
     },
     "execution_count": 22,
     "metadata": {},
     "output_type": "execute_result"
    }
   ],
   "source": [
    "# one rad in arcsec:\n",
    "1./units.arcsec.to('rad')"
   ]
  },
  {
   "cell_type": "code",
   "execution_count": 23,
   "metadata": {},
   "outputs": [
    {
     "data": {
      "text/latex": [
       "$3.0856776 \\times 10^{16} \\; \\mathrm{m}$"
      ],
      "text/plain": [
       "<Quantity 3.08567758e+16 m>"
      ]
     },
     "execution_count": 23,
     "metadata": {},
     "output_type": "execute_result"
    }
   ],
   "source": [
    "# Then one parsec is\n",
    "D = constants.au / units.arcsec.to('rad')\n",
    "D"
   ]
  },
  {
   "cell_type": "code",
   "execution_count": 24,
   "metadata": {},
   "outputs": [
    {
     "data": {
      "text/latex": [
       "$206264.81 \\; \\mathrm{AU}$"
      ],
      "text/plain": [
       "<Quantity 206264.8062471 AU>"
      ]
     },
     "execution_count": 24,
     "metadata": {},
     "output_type": "execute_result"
    }
   ],
   "source": [
    "# parsec in AU:\n",
    "D.to('AU')"
   ]
  },
  {
   "cell_type": "markdown",
   "metadata": {},
   "source": [
    "### Lightyear"
   ]
  },
  {
   "cell_type": "code",
   "execution_count": 25,
   "metadata": {},
   "outputs": [
    {
     "data": {
      "text/latex": [
       "$\\mathrm{lyr}$"
      ],
      "text/plain": [
       "Unit(\"lyr\")"
      ]
     },
     "execution_count": 25,
     "metadata": {},
     "output_type": "execute_result"
    }
   ],
   "source": [
    "units.lightyear"
   ]
  },
  {
   "cell_type": "code",
   "execution_count": 26,
   "metadata": {},
   "outputs": [
    {
     "data": {
      "text/latex": [
       "$3.2615638 \\; \\mathrm{lyr}$"
      ],
      "text/plain": [
       "<Quantity 3.26156378 lyr>"
      ]
     },
     "execution_count": 26,
     "metadata": {},
     "output_type": "execute_result"
    }
   ],
   "source": [
    "# parsec in lightyear:\n",
    "D.to('lightyear')"
   ]
  },
  {
   "cell_type": "code",
   "execution_count": 27,
   "metadata": {},
   "outputs": [
    {
     "data": {
      "text/latex": [
       "$3261.5638 \\; \\mathrm{lyr}$"
      ],
      "text/plain": [
       "<Quantity 3261.56377714 lyr>"
      ]
     },
     "execution_count": 27,
     "metadata": {},
     "output_type": "execute_result"
    }
   ],
   "source": [
    "constants.kpc.to('lightyear')"
   ]
  },
  {
   "cell_type": "code",
   "execution_count": 30,
   "metadata": {},
   "outputs": [
    {
     "data": {
      "text/latex": [
       "$1.5812507 \\times 10^{-5} \\; \\mathrm{lyr}$"
      ],
      "text/plain": [
       "<Quantity 1.58125074e-05 lyr>"
      ]
     },
     "execution_count": 30,
     "metadata": {},
     "output_type": "execute_result"
    }
   ],
   "source": [
    "constants.au.to('lightyear')"
   ]
  },
  {
   "cell_type": "code",
   "execution_count": 31,
   "metadata": {},
   "outputs": [
    {
     "data": {
      "text/latex": [
       "$63241.077 \\; \\mathrm{AU}$"
      ],
      "text/plain": [
       "<Quantity 63241.07708427 AU>"
      ]
     },
     "execution_count": 31,
     "metadata": {},
     "output_type": "execute_result"
    }
   ],
   "source": [
    "(constants.c*units.year).to('au')"
   ]
  },
  {
   "cell_type": "code",
   "execution_count": 32,
   "metadata": {},
   "outputs": [
    {
     "data": {
      "text/latex": [
       "$63241.077 \\; \\mathrm{AU}$"
      ],
      "text/plain": [
       "<Quantity 63241.07708427 AU>"
      ]
     },
     "execution_count": 32,
     "metadata": {},
     "output_type": "execute_result"
    }
   ],
   "source": [
    "(1*units.lightyear).to('au')"
   ]
  },
  {
   "cell_type": "code",
   "execution_count": 33,
   "metadata": {},
   "outputs": [
    {
     "data": {
      "text/latex": [
       "$206264.81 \\; \\mathrm{AU}$"
      ],
      "text/plain": [
       "<Quantity 206264.80624548 AU>"
      ]
     },
     "execution_count": 33,
     "metadata": {},
     "output_type": "execute_result"
    }
   ],
   "source": [
    "constants.pc.to('au')"
   ]
  }
 ],
 "metadata": {
  "kernelspec": {
   "display_name": "Python 3",
   "language": "python",
   "name": "python3"
  },
  "language_info": {
   "codemirror_mode": {
    "name": "ipython",
    "version": 3
   },
   "file_extension": ".py",
   "mimetype": "text/x-python",
   "name": "python",
   "nbconvert_exporter": "python",
   "pygments_lexer": "ipython3",
   "version": "3.7.3"
  }
 },
 "nbformat": 4,
 "nbformat_minor": 4
}
