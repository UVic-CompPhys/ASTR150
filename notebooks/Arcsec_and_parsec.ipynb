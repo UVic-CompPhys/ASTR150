{
 "cells": [
  {
   "cell_type": "markdown",
   "metadata": {},
   "source": [
    "# Arcseconds and parsec"
   ]
  },
  {
   "cell_type": "code",
   "execution_count": 1,
   "metadata": {},
   "outputs": [
    {
     "name": "stdout",
     "output_type": "stream",
     "text": [
      "Populating the interactive namespace from numpy and matplotlib\n"
     ]
    }
   ],
   "source": [
    "%pylab nbagg"
   ]
  },
  {
   "cell_type": "code",
   "execution_count": 2,
   "metadata": {},
   "outputs": [],
   "source": [
    "from astropy import units\n",
    "from astropy import constants"
   ]
  },
  {
   "cell_type": "markdown",
   "metadata": {},
   "source": [
    "By default the sin function takes the angle in units of radians where a complete turn of $2\\pi \\, \\mathrm{rad}$ corresponds to $360^{\\circ}$. For example, $90^{\\circ}$ corresponds to $\\frac{1}{2}\\pi \\, \\mathrm{rad}$:"
   ]
  },
  {
   "cell_type": "code",
   "execution_count": 4,
   "metadata": {},
   "outputs": [
    {
     "data": {
      "text/plain": [
       "1.0"
      ]
     },
     "execution_count": 4,
     "metadata": {},
     "output_type": "execute_result"
    }
   ],
   "source": [
    "sin(0.5*pi)"
   ]
  },
  {
   "cell_type": "markdown",
   "metadata": {},
   "source": [
    "Another measure for angle are minutes and seconds. 60 minutes are one degree."
   ]
  },
  {
   "cell_type": "code",
   "execution_count": 5,
   "metadata": {},
   "outputs": [],
   "source": [
    "a=90*60*units.arcmin"
   ]
  },
  {
   "cell_type": "code",
   "execution_count": 6,
   "metadata": {},
   "outputs": [
    {
     "data": {
      "text/latex": [
       "$1 \\; \\mathrm{}$"
      ],
      "text/plain": [
       "<Quantity 1.>"
      ]
     },
     "execution_count": 6,
     "metadata": {},
     "output_type": "execute_result"
    }
   ],
   "source": [
    "sin(a)"
   ]
  },
  {
   "cell_type": "code",
   "execution_count": 7,
   "metadata": {},
   "outputs": [],
   "source": [
    "a=90*3600*units.arcsec"
   ]
  },
  {
   "cell_type": "code",
   "execution_count": 8,
   "metadata": {},
   "outputs": [
    {
     "data": {
      "text/latex": [
       "$1 \\; \\mathrm{}$"
      ],
      "text/plain": [
       "<Quantity 1.>"
      ]
     },
     "execution_count": 8,
     "metadata": {},
     "output_type": "execute_result"
    }
   ],
   "source": [
    "sin(a)"
   ]
  },
  {
   "cell_type": "markdown",
   "metadata": {},
   "source": [
    "One arcsec is very small, and the sin of one arcsec is very small:"
   ]
  },
  {
   "cell_type": "code",
   "execution_count": 9,
   "metadata": {},
   "outputs": [
    {
     "data": {
      "text/latex": [
       "$4.8481368 \\times 10^{-6} \\; \\mathrm{}$"
      ],
      "text/plain": [
       "<Quantity 4.84813681e-06>"
      ]
     },
     "execution_count": 9,
     "metadata": {},
     "output_type": "execute_result"
    }
   ],
   "source": [
    "sin(1*units.arcsec)"
   ]
  },
  {
   "cell_type": "markdown",
   "metadata": {},
   "source": [
    "sin(45 deg):"
   ]
  },
  {
   "cell_type": "code",
   "execution_count": 29,
   "metadata": {},
   "outputs": [
    {
     "data": {
      "text/plain": [
       "0.7071067811865475"
      ]
     },
     "execution_count": 29,
     "metadata": {},
     "output_type": "execute_result"
    }
   ],
   "source": [
    "sin(pi/4.)"
   ]
  },
  {
   "cell_type": "code",
   "execution_count": 10,
   "metadata": {},
   "outputs": [
    {
     "data": {
      "text/plain": [
       "0.7071067811865475"
      ]
     },
     "execution_count": 10,
     "metadata": {},
     "output_type": "execute_result"
    }
   ],
   "source": [
    "1/sqrt(2)"
   ]
  },
  {
   "cell_type": "markdown",
   "metadata": {},
   "source": [
    "Convert units conveniently with the unit package, for example one arcmin in rad:"
   ]
  },
  {
   "cell_type": "code",
   "execution_count": 11,
   "metadata": {},
   "outputs": [
    {
     "data": {
      "text/plain": [
       "0.0002908882086657216"
      ]
     },
     "execution_count": 11,
     "metadata": {},
     "output_type": "execute_result"
    }
   ],
   "source": [
    "units.arcmin.to('rad')"
   ]
  },
  {
   "cell_type": "markdown",
   "metadata": {},
   "source": [
    "In order to make a plot we create an array containing numbers with units:"
   ]
  },
  {
   "cell_type": "code",
   "execution_count": 12,
   "metadata": {},
   "outputs": [],
   "source": [
    "a = linspace(0,90*60*units.arcmin,100)"
   ]
  },
  {
   "cell_type": "markdown",
   "metadata": {},
   "source": [
    "The 10$^\\mathrm{th}$ element of the angle array $a$:"
   ]
  },
  {
   "cell_type": "code",
   "execution_count": 13,
   "metadata": {},
   "outputs": [
    {
     "data": {
      "text/latex": [
       "$545.45455 \\; \\mathrm{{}^{\\prime}}$"
      ],
      "text/plain": [
       "<Quantity 545.45454545 arcmin>"
      ]
     },
     "execution_count": 13,
     "metadata": {},
     "output_type": "execute_result"
    }
   ],
   "source": [
    "a[10]"
   ]
  },
  {
   "cell_type": "markdown",
   "metadata": {},
   "source": [
    "Note how the unit of angle is changed when plotting the second line:"
   ]
  },
  {
   "cell_type": "code",
   "execution_count": 14,
   "metadata": {},
   "outputs": [
    {
     "data": {
      "application/javascript": [
       "/* Put everything inside the global mpl namespace */\n",
       "window.mpl = {};\n",
       "\n",
       "\n",
       "mpl.get_websocket_type = function() {\n",
       "    if (typeof(WebSocket) !== 'undefined') {\n",
       "        return WebSocket;\n",
       "    } else if (typeof(MozWebSocket) !== 'undefined') {\n",
       "        return MozWebSocket;\n",
       "    } else {\n",
       "        alert('Your browser does not have WebSocket support. ' +\n",
       "              'Please try Chrome, Safari or Firefox ≥ 6. ' +\n",
       "              'Firefox 4 and 5 are also supported but you ' +\n",
       "              'have to enable WebSockets in about:config.');\n",
       "    };\n",
       "}\n",
       "\n",
       "mpl.figure = function(figure_id, websocket, ondownload, parent_element) {\n",
       "    this.id = figure_id;\n",
       "\n",
       "    this.ws = websocket;\n",
       "\n",
       "    this.supports_binary = (this.ws.binaryType != undefined);\n",
       "\n",
       "    if (!this.supports_binary) {\n",
       "        var warnings = document.getElementById(\"mpl-warnings\");\n",
       "        if (warnings) {\n",
       "            warnings.style.display = 'block';\n",
       "            warnings.textContent = (\n",
       "                \"This browser does not support binary websocket messages. \" +\n",
       "                    \"Performance may be slow.\");\n",
       "        }\n",
       "    }\n",
       "\n",
       "    this.imageObj = new Image();\n",
       "\n",
       "    this.context = undefined;\n",
       "    this.message = undefined;\n",
       "    this.canvas = undefined;\n",
       "    this.rubberband_canvas = undefined;\n",
       "    this.rubberband_context = undefined;\n",
       "    this.format_dropdown = undefined;\n",
       "\n",
       "    this.image_mode = 'full';\n",
       "\n",
       "    this.root = $('<div/>');\n",
       "    this._root_extra_style(this.root)\n",
       "    this.root.attr('style', 'display: inline-block');\n",
       "\n",
       "    $(parent_element).append(this.root);\n",
       "\n",
       "    this._init_header(this);\n",
       "    this._init_canvas(this);\n",
       "    this._init_toolbar(this);\n",
       "\n",
       "    var fig = this;\n",
       "\n",
       "    this.waiting = false;\n",
       "\n",
       "    this.ws.onopen =  function () {\n",
       "            fig.send_message(\"supports_binary\", {value: fig.supports_binary});\n",
       "            fig.send_message(\"send_image_mode\", {});\n",
       "            if (mpl.ratio != 1) {\n",
       "                fig.send_message(\"set_dpi_ratio\", {'dpi_ratio': mpl.ratio});\n",
       "            }\n",
       "            fig.send_message(\"refresh\", {});\n",
       "        }\n",
       "\n",
       "    this.imageObj.onload = function() {\n",
       "            if (fig.image_mode == 'full') {\n",
       "                // Full images could contain transparency (where diff images\n",
       "                // almost always do), so we need to clear the canvas so that\n",
       "                // there is no ghosting.\n",
       "                fig.context.clearRect(0, 0, fig.canvas.width, fig.canvas.height);\n",
       "            }\n",
       "            fig.context.drawImage(fig.imageObj, 0, 0);\n",
       "        };\n",
       "\n",
       "    this.imageObj.onunload = function() {\n",
       "        fig.ws.close();\n",
       "    }\n",
       "\n",
       "    this.ws.onmessage = this._make_on_message_function(this);\n",
       "\n",
       "    this.ondownload = ondownload;\n",
       "}\n",
       "\n",
       "mpl.figure.prototype._init_header = function() {\n",
       "    var titlebar = $(\n",
       "        '<div class=\"ui-dialog-titlebar ui-widget-header ui-corner-all ' +\n",
       "        'ui-helper-clearfix\"/>');\n",
       "    var titletext = $(\n",
       "        '<div class=\"ui-dialog-title\" style=\"width: 100%; ' +\n",
       "        'text-align: center; padding: 3px;\"/>');\n",
       "    titlebar.append(titletext)\n",
       "    this.root.append(titlebar);\n",
       "    this.header = titletext[0];\n",
       "}\n",
       "\n",
       "\n",
       "\n",
       "mpl.figure.prototype._canvas_extra_style = function(canvas_div) {\n",
       "\n",
       "}\n",
       "\n",
       "\n",
       "mpl.figure.prototype._root_extra_style = function(canvas_div) {\n",
       "\n",
       "}\n",
       "\n",
       "mpl.figure.prototype._init_canvas = function() {\n",
       "    var fig = this;\n",
       "\n",
       "    var canvas_div = $('<div/>');\n",
       "\n",
       "    canvas_div.attr('style', 'position: relative; clear: both; outline: 0');\n",
       "\n",
       "    function canvas_keyboard_event(event) {\n",
       "        return fig.key_event(event, event['data']);\n",
       "    }\n",
       "\n",
       "    canvas_div.keydown('key_press', canvas_keyboard_event);\n",
       "    canvas_div.keyup('key_release', canvas_keyboard_event);\n",
       "    this.canvas_div = canvas_div\n",
       "    this._canvas_extra_style(canvas_div)\n",
       "    this.root.append(canvas_div);\n",
       "\n",
       "    var canvas = $('<canvas/>');\n",
       "    canvas.addClass('mpl-canvas');\n",
       "    canvas.attr('style', \"left: 0; top: 0; z-index: 0; outline: 0\")\n",
       "\n",
       "    this.canvas = canvas[0];\n",
       "    this.context = canvas[0].getContext(\"2d\");\n",
       "\n",
       "    var backingStore = this.context.backingStorePixelRatio ||\n",
       "\tthis.context.webkitBackingStorePixelRatio ||\n",
       "\tthis.context.mozBackingStorePixelRatio ||\n",
       "\tthis.context.msBackingStorePixelRatio ||\n",
       "\tthis.context.oBackingStorePixelRatio ||\n",
       "\tthis.context.backingStorePixelRatio || 1;\n",
       "\n",
       "    mpl.ratio = (window.devicePixelRatio || 1) / backingStore;\n",
       "\n",
       "    var rubberband = $('<canvas/>');\n",
       "    rubberband.attr('style', \"position: absolute; left: 0; top: 0; z-index: 1;\")\n",
       "\n",
       "    var pass_mouse_events = true;\n",
       "\n",
       "    canvas_div.resizable({\n",
       "        start: function(event, ui) {\n",
       "            pass_mouse_events = false;\n",
       "        },\n",
       "        resize: function(event, ui) {\n",
       "            fig.request_resize(ui.size.width, ui.size.height);\n",
       "        },\n",
       "        stop: function(event, ui) {\n",
       "            pass_mouse_events = true;\n",
       "            fig.request_resize(ui.size.width, ui.size.height);\n",
       "        },\n",
       "    });\n",
       "\n",
       "    function mouse_event_fn(event) {\n",
       "        if (pass_mouse_events)\n",
       "            return fig.mouse_event(event, event['data']);\n",
       "    }\n",
       "\n",
       "    rubberband.mousedown('button_press', mouse_event_fn);\n",
       "    rubberband.mouseup('button_release', mouse_event_fn);\n",
       "    // Throttle sequential mouse events to 1 every 20ms.\n",
       "    rubberband.mousemove('motion_notify', mouse_event_fn);\n",
       "\n",
       "    rubberband.mouseenter('figure_enter', mouse_event_fn);\n",
       "    rubberband.mouseleave('figure_leave', mouse_event_fn);\n",
       "\n",
       "    canvas_div.on(\"wheel\", function (event) {\n",
       "        event = event.originalEvent;\n",
       "        event['data'] = 'scroll'\n",
       "        if (event.deltaY < 0) {\n",
       "            event.step = 1;\n",
       "        } else {\n",
       "            event.step = -1;\n",
       "        }\n",
       "        mouse_event_fn(event);\n",
       "    });\n",
       "\n",
       "    canvas_div.append(canvas);\n",
       "    canvas_div.append(rubberband);\n",
       "\n",
       "    this.rubberband = rubberband;\n",
       "    this.rubberband_canvas = rubberband[0];\n",
       "    this.rubberband_context = rubberband[0].getContext(\"2d\");\n",
       "    this.rubberband_context.strokeStyle = \"#000000\";\n",
       "\n",
       "    this._resize_canvas = function(width, height) {\n",
       "        // Keep the size of the canvas, canvas container, and rubber band\n",
       "        // canvas in synch.\n",
       "        canvas_div.css('width', width)\n",
       "        canvas_div.css('height', height)\n",
       "\n",
       "        canvas.attr('width', width * mpl.ratio);\n",
       "        canvas.attr('height', height * mpl.ratio);\n",
       "        canvas.attr('style', 'width: ' + width + 'px; height: ' + height + 'px;');\n",
       "\n",
       "        rubberband.attr('width', width);\n",
       "        rubberband.attr('height', height);\n",
       "    }\n",
       "\n",
       "    // Set the figure to an initial 600x600px, this will subsequently be updated\n",
       "    // upon first draw.\n",
       "    this._resize_canvas(600, 600);\n",
       "\n",
       "    // Disable right mouse context menu.\n",
       "    $(this.rubberband_canvas).bind(\"contextmenu\",function(e){\n",
       "        return false;\n",
       "    });\n",
       "\n",
       "    function set_focus () {\n",
       "        canvas.focus();\n",
       "        canvas_div.focus();\n",
       "    }\n",
       "\n",
       "    window.setTimeout(set_focus, 100);\n",
       "}\n",
       "\n",
       "mpl.figure.prototype._init_toolbar = function() {\n",
       "    var fig = this;\n",
       "\n",
       "    var nav_element = $('<div/>');\n",
       "    nav_element.attr('style', 'width: 100%');\n",
       "    this.root.append(nav_element);\n",
       "\n",
       "    // Define a callback function for later on.\n",
       "    function toolbar_event(event) {\n",
       "        return fig.toolbar_button_onclick(event['data']);\n",
       "    }\n",
       "    function toolbar_mouse_event(event) {\n",
       "        return fig.toolbar_button_onmouseover(event['data']);\n",
       "    }\n",
       "\n",
       "    for(var toolbar_ind in mpl.toolbar_items) {\n",
       "        var name = mpl.toolbar_items[toolbar_ind][0];\n",
       "        var tooltip = mpl.toolbar_items[toolbar_ind][1];\n",
       "        var image = mpl.toolbar_items[toolbar_ind][2];\n",
       "        var method_name = mpl.toolbar_items[toolbar_ind][3];\n",
       "\n",
       "        if (!name) {\n",
       "            // put a spacer in here.\n",
       "            continue;\n",
       "        }\n",
       "        var button = $('<button/>');\n",
       "        button.addClass('ui-button ui-widget ui-state-default ui-corner-all ' +\n",
       "                        'ui-button-icon-only');\n",
       "        button.attr('role', 'button');\n",
       "        button.attr('aria-disabled', 'false');\n",
       "        button.click(method_name, toolbar_event);\n",
       "        button.mouseover(tooltip, toolbar_mouse_event);\n",
       "\n",
       "        var icon_img = $('<span/>');\n",
       "        icon_img.addClass('ui-button-icon-primary ui-icon');\n",
       "        icon_img.addClass(image);\n",
       "        icon_img.addClass('ui-corner-all');\n",
       "\n",
       "        var tooltip_span = $('<span/>');\n",
       "        tooltip_span.addClass('ui-button-text');\n",
       "        tooltip_span.html(tooltip);\n",
       "\n",
       "        button.append(icon_img);\n",
       "        button.append(tooltip_span);\n",
       "\n",
       "        nav_element.append(button);\n",
       "    }\n",
       "\n",
       "    var fmt_picker_span = $('<span/>');\n",
       "\n",
       "    var fmt_picker = $('<select/>');\n",
       "    fmt_picker.addClass('mpl-toolbar-option ui-widget ui-widget-content');\n",
       "    fmt_picker_span.append(fmt_picker);\n",
       "    nav_element.append(fmt_picker_span);\n",
       "    this.format_dropdown = fmt_picker[0];\n",
       "\n",
       "    for (var ind in mpl.extensions) {\n",
       "        var fmt = mpl.extensions[ind];\n",
       "        var option = $(\n",
       "            '<option/>', {selected: fmt === mpl.default_extension}).html(fmt);\n",
       "        fmt_picker.append(option);\n",
       "    }\n",
       "\n",
       "    // Add hover states to the ui-buttons\n",
       "    $( \".ui-button\" ).hover(\n",
       "        function() { $(this).addClass(\"ui-state-hover\");},\n",
       "        function() { $(this).removeClass(\"ui-state-hover\");}\n",
       "    );\n",
       "\n",
       "    var status_bar = $('<span class=\"mpl-message\"/>');\n",
       "    nav_element.append(status_bar);\n",
       "    this.message = status_bar[0];\n",
       "}\n",
       "\n",
       "mpl.figure.prototype.request_resize = function(x_pixels, y_pixels) {\n",
       "    // Request matplotlib to resize the figure. Matplotlib will then trigger a resize in the client,\n",
       "    // which will in turn request a refresh of the image.\n",
       "    this.send_message('resize', {'width': x_pixels, 'height': y_pixels});\n",
       "}\n",
       "\n",
       "mpl.figure.prototype.send_message = function(type, properties) {\n",
       "    properties['type'] = type;\n",
       "    properties['figure_id'] = this.id;\n",
       "    this.ws.send(JSON.stringify(properties));\n",
       "}\n",
       "\n",
       "mpl.figure.prototype.send_draw_message = function() {\n",
       "    if (!this.waiting) {\n",
       "        this.waiting = true;\n",
       "        this.ws.send(JSON.stringify({type: \"draw\", figure_id: this.id}));\n",
       "    }\n",
       "}\n",
       "\n",
       "\n",
       "mpl.figure.prototype.handle_save = function(fig, msg) {\n",
       "    var format_dropdown = fig.format_dropdown;\n",
       "    var format = format_dropdown.options[format_dropdown.selectedIndex].value;\n",
       "    fig.ondownload(fig, format);\n",
       "}\n",
       "\n",
       "\n",
       "mpl.figure.prototype.handle_resize = function(fig, msg) {\n",
       "    var size = msg['size'];\n",
       "    if (size[0] != fig.canvas.width || size[1] != fig.canvas.height) {\n",
       "        fig._resize_canvas(size[0], size[1]);\n",
       "        fig.send_message(\"refresh\", {});\n",
       "    };\n",
       "}\n",
       "\n",
       "mpl.figure.prototype.handle_rubberband = function(fig, msg) {\n",
       "    var x0 = msg['x0'] / mpl.ratio;\n",
       "    var y0 = (fig.canvas.height - msg['y0']) / mpl.ratio;\n",
       "    var x1 = msg['x1'] / mpl.ratio;\n",
       "    var y1 = (fig.canvas.height - msg['y1']) / mpl.ratio;\n",
       "    x0 = Math.floor(x0) + 0.5;\n",
       "    y0 = Math.floor(y0) + 0.5;\n",
       "    x1 = Math.floor(x1) + 0.5;\n",
       "    y1 = Math.floor(y1) + 0.5;\n",
       "    var min_x = Math.min(x0, x1);\n",
       "    var min_y = Math.min(y0, y1);\n",
       "    var width = Math.abs(x1 - x0);\n",
       "    var height = Math.abs(y1 - y0);\n",
       "\n",
       "    fig.rubberband_context.clearRect(\n",
       "        0, 0, fig.canvas.width / mpl.ratio, fig.canvas.height / mpl.ratio);\n",
       "\n",
       "    fig.rubberband_context.strokeRect(min_x, min_y, width, height);\n",
       "}\n",
       "\n",
       "mpl.figure.prototype.handle_figure_label = function(fig, msg) {\n",
       "    // Updates the figure title.\n",
       "    fig.header.textContent = msg['label'];\n",
       "}\n",
       "\n",
       "mpl.figure.prototype.handle_cursor = function(fig, msg) {\n",
       "    var cursor = msg['cursor'];\n",
       "    switch(cursor)\n",
       "    {\n",
       "    case 0:\n",
       "        cursor = 'pointer';\n",
       "        break;\n",
       "    case 1:\n",
       "        cursor = 'default';\n",
       "        break;\n",
       "    case 2:\n",
       "        cursor = 'crosshair';\n",
       "        break;\n",
       "    case 3:\n",
       "        cursor = 'move';\n",
       "        break;\n",
       "    }\n",
       "    fig.rubberband_canvas.style.cursor = cursor;\n",
       "}\n",
       "\n",
       "mpl.figure.prototype.handle_message = function(fig, msg) {\n",
       "    fig.message.textContent = msg['message'];\n",
       "}\n",
       "\n",
       "mpl.figure.prototype.handle_draw = function(fig, msg) {\n",
       "    // Request the server to send over a new figure.\n",
       "    fig.send_draw_message();\n",
       "}\n",
       "\n",
       "mpl.figure.prototype.handle_image_mode = function(fig, msg) {\n",
       "    fig.image_mode = msg['mode'];\n",
       "}\n",
       "\n",
       "mpl.figure.prototype.updated_canvas_event = function() {\n",
       "    // Called whenever the canvas gets updated.\n",
       "    this.send_message(\"ack\", {});\n",
       "}\n",
       "\n",
       "// A function to construct a web socket function for onmessage handling.\n",
       "// Called in the figure constructor.\n",
       "mpl.figure.prototype._make_on_message_function = function(fig) {\n",
       "    return function socket_on_message(evt) {\n",
       "        if (evt.data instanceof Blob) {\n",
       "            /* FIXME: We get \"Resource interpreted as Image but\n",
       "             * transferred with MIME type text/plain:\" errors on\n",
       "             * Chrome.  But how to set the MIME type?  It doesn't seem\n",
       "             * to be part of the websocket stream */\n",
       "            evt.data.type = \"image/png\";\n",
       "\n",
       "            /* Free the memory for the previous frames */\n",
       "            if (fig.imageObj.src) {\n",
       "                (window.URL || window.webkitURL).revokeObjectURL(\n",
       "                    fig.imageObj.src);\n",
       "            }\n",
       "\n",
       "            fig.imageObj.src = (window.URL || window.webkitURL).createObjectURL(\n",
       "                evt.data);\n",
       "            fig.updated_canvas_event();\n",
       "            fig.waiting = false;\n",
       "            return;\n",
       "        }\n",
       "        else if (typeof evt.data === 'string' && evt.data.slice(0, 21) == \"data:image/png;base64\") {\n",
       "            fig.imageObj.src = evt.data;\n",
       "            fig.updated_canvas_event();\n",
       "            fig.waiting = false;\n",
       "            return;\n",
       "        }\n",
       "\n",
       "        var msg = JSON.parse(evt.data);\n",
       "        var msg_type = msg['type'];\n",
       "\n",
       "        // Call the  \"handle_{type}\" callback, which takes\n",
       "        // the figure and JSON message as its only arguments.\n",
       "        try {\n",
       "            var callback = fig[\"handle_\" + msg_type];\n",
       "        } catch (e) {\n",
       "            console.log(\"No handler for the '\" + msg_type + \"' message type: \", msg);\n",
       "            return;\n",
       "        }\n",
       "\n",
       "        if (callback) {\n",
       "            try {\n",
       "                // console.log(\"Handling '\" + msg_type + \"' message: \", msg);\n",
       "                callback(fig, msg);\n",
       "            } catch (e) {\n",
       "                console.log(\"Exception inside the 'handler_\" + msg_type + \"' callback:\", e, e.stack, msg);\n",
       "            }\n",
       "        }\n",
       "    };\n",
       "}\n",
       "\n",
       "// from http://stackoverflow.com/questions/1114465/getting-mouse-location-in-canvas\n",
       "mpl.findpos = function(e) {\n",
       "    //this section is from http://www.quirksmode.org/js/events_properties.html\n",
       "    var targ;\n",
       "    if (!e)\n",
       "        e = window.event;\n",
       "    if (e.target)\n",
       "        targ = e.target;\n",
       "    else if (e.srcElement)\n",
       "        targ = e.srcElement;\n",
       "    if (targ.nodeType == 3) // defeat Safari bug\n",
       "        targ = targ.parentNode;\n",
       "\n",
       "    // jQuery normalizes the pageX and pageY\n",
       "    // pageX,Y are the mouse positions relative to the document\n",
       "    // offset() returns the position of the element relative to the document\n",
       "    var x = e.pageX - $(targ).offset().left;\n",
       "    var y = e.pageY - $(targ).offset().top;\n",
       "\n",
       "    return {\"x\": x, \"y\": y};\n",
       "};\n",
       "\n",
       "/*\n",
       " * return a copy of an object with only non-object keys\n",
       " * we need this to avoid circular references\n",
       " * http://stackoverflow.com/a/24161582/3208463\n",
       " */\n",
       "function simpleKeys (original) {\n",
       "  return Object.keys(original).reduce(function (obj, key) {\n",
       "    if (typeof original[key] !== 'object')\n",
       "        obj[key] = original[key]\n",
       "    return obj;\n",
       "  }, {});\n",
       "}\n",
       "\n",
       "mpl.figure.prototype.mouse_event = function(event, name) {\n",
       "    var canvas_pos = mpl.findpos(event)\n",
       "\n",
       "    if (name === 'button_press')\n",
       "    {\n",
       "        this.canvas.focus();\n",
       "        this.canvas_div.focus();\n",
       "    }\n",
       "\n",
       "    var x = canvas_pos.x * mpl.ratio;\n",
       "    var y = canvas_pos.y * mpl.ratio;\n",
       "\n",
       "    this.send_message(name, {x: x, y: y, button: event.button,\n",
       "                             step: event.step,\n",
       "                             guiEvent: simpleKeys(event)});\n",
       "\n",
       "    /* This prevents the web browser from automatically changing to\n",
       "     * the text insertion cursor when the button is pressed.  We want\n",
       "     * to control all of the cursor setting manually through the\n",
       "     * 'cursor' event from matplotlib */\n",
       "    event.preventDefault();\n",
       "    return false;\n",
       "}\n",
       "\n",
       "mpl.figure.prototype._key_event_extra = function(event, name) {\n",
       "    // Handle any extra behaviour associated with a key event\n",
       "}\n",
       "\n",
       "mpl.figure.prototype.key_event = function(event, name) {\n",
       "\n",
       "    // Prevent repeat events\n",
       "    if (name == 'key_press')\n",
       "    {\n",
       "        if (event.which === this._key)\n",
       "            return;\n",
       "        else\n",
       "            this._key = event.which;\n",
       "    }\n",
       "    if (name == 'key_release')\n",
       "        this._key = null;\n",
       "\n",
       "    var value = '';\n",
       "    if (event.ctrlKey && event.which != 17)\n",
       "        value += \"ctrl+\";\n",
       "    if (event.altKey && event.which != 18)\n",
       "        value += \"alt+\";\n",
       "    if (event.shiftKey && event.which != 16)\n",
       "        value += \"shift+\";\n",
       "\n",
       "    value += 'k';\n",
       "    value += event.which.toString();\n",
       "\n",
       "    this._key_event_extra(event, name);\n",
       "\n",
       "    this.send_message(name, {key: value,\n",
       "                             guiEvent: simpleKeys(event)});\n",
       "    return false;\n",
       "}\n",
       "\n",
       "mpl.figure.prototype.toolbar_button_onclick = function(name) {\n",
       "    if (name == 'download') {\n",
       "        this.handle_save(this, null);\n",
       "    } else {\n",
       "        this.send_message(\"toolbar_button\", {name: name});\n",
       "    }\n",
       "};\n",
       "\n",
       "mpl.figure.prototype.toolbar_button_onmouseover = function(tooltip) {\n",
       "    this.message.textContent = tooltip;\n",
       "};\n",
       "mpl.toolbar_items = [[\"Home\", \"Reset original view\", \"fa fa-home icon-home\", \"home\"], [\"Back\", \"Back to previous view\", \"fa fa-arrow-left icon-arrow-left\", \"back\"], [\"Forward\", \"Forward to next view\", \"fa fa-arrow-right icon-arrow-right\", \"forward\"], [\"\", \"\", \"\", \"\"], [\"Pan\", \"Pan axes with left mouse, zoom with right\", \"fa fa-arrows icon-move\", \"pan\"], [\"Zoom\", \"Zoom to rectangle\", \"fa fa-square-o icon-check-empty\", \"zoom\"], [\"\", \"\", \"\", \"\"], [\"Download\", \"Download plot\", \"fa fa-floppy-o icon-save\", \"download\"]];\n",
       "\n",
       "mpl.extensions = [\"eps\", \"jpeg\", \"pdf\", \"png\", \"ps\", \"raw\", \"svg\", \"tif\"];\n",
       "\n",
       "mpl.default_extension = \"png\";var comm_websocket_adapter = function(comm) {\n",
       "    // Create a \"websocket\"-like object which calls the given IPython comm\n",
       "    // object with the appropriate methods. Currently this is a non binary\n",
       "    // socket, so there is still some room for performance tuning.\n",
       "    var ws = {};\n",
       "\n",
       "    ws.close = function() {\n",
       "        comm.close()\n",
       "    };\n",
       "    ws.send = function(m) {\n",
       "        //console.log('sending', m);\n",
       "        comm.send(m);\n",
       "    };\n",
       "    // Register the callback with on_msg.\n",
       "    comm.on_msg(function(msg) {\n",
       "        //console.log('receiving', msg['content']['data'], msg);\n",
       "        // Pass the mpl event to the overridden (by mpl) onmessage function.\n",
       "        ws.onmessage(msg['content']['data'])\n",
       "    });\n",
       "    return ws;\n",
       "}\n",
       "\n",
       "mpl.mpl_figure_comm = function(comm, msg) {\n",
       "    // This is the function which gets called when the mpl process\n",
       "    // starts-up an IPython Comm through the \"matplotlib\" channel.\n",
       "\n",
       "    var id = msg.content.data.id;\n",
       "    // Get hold of the div created by the display call when the Comm\n",
       "    // socket was opened in Python.\n",
       "    var element = $(\"#\" + id);\n",
       "    var ws_proxy = comm_websocket_adapter(comm)\n",
       "\n",
       "    function ondownload(figure, format) {\n",
       "        window.open(figure.imageObj.src);\n",
       "    }\n",
       "\n",
       "    var fig = new mpl.figure(id, ws_proxy,\n",
       "                           ondownload,\n",
       "                           element.get(0));\n",
       "\n",
       "    // Call onopen now - mpl needs it, as it is assuming we've passed it a real\n",
       "    // web socket which is closed, not our websocket->open comm proxy.\n",
       "    ws_proxy.onopen();\n",
       "\n",
       "    fig.parent_element = element.get(0);\n",
       "    fig.cell_info = mpl.find_output_cell(\"<div id='\" + id + \"'></div>\");\n",
       "    if (!fig.cell_info) {\n",
       "        console.error(\"Failed to find cell for figure\", id, fig);\n",
       "        return;\n",
       "    }\n",
       "\n",
       "    var output_index = fig.cell_info[2]\n",
       "    var cell = fig.cell_info[0];\n",
       "\n",
       "};\n",
       "\n",
       "mpl.figure.prototype.handle_close = function(fig, msg) {\n",
       "    var width = fig.canvas.width/mpl.ratio\n",
       "    fig.root.unbind('remove')\n",
       "\n",
       "    // Update the output cell to use the data from the current canvas.\n",
       "    fig.push_to_output();\n",
       "    var dataURL = fig.canvas.toDataURL();\n",
       "    // Re-enable the keyboard manager in IPython - without this line, in FF,\n",
       "    // the notebook keyboard shortcuts fail.\n",
       "    IPython.keyboard_manager.enable()\n",
       "    $(fig.parent_element).html('<img src=\"' + dataURL + '\" width=\"' + width + '\">');\n",
       "    fig.close_ws(fig, msg);\n",
       "}\n",
       "\n",
       "mpl.figure.prototype.close_ws = function(fig, msg){\n",
       "    fig.send_message('closing', msg);\n",
       "    // fig.ws.close()\n",
       "}\n",
       "\n",
       "mpl.figure.prototype.push_to_output = function(remove_interactive) {\n",
       "    // Turn the data on the canvas into data in the output cell.\n",
       "    var width = this.canvas.width/mpl.ratio\n",
       "    var dataURL = this.canvas.toDataURL();\n",
       "    this.cell_info[1]['text/html'] = '<img src=\"' + dataURL + '\" width=\"' + width + '\">';\n",
       "}\n",
       "\n",
       "mpl.figure.prototype.updated_canvas_event = function() {\n",
       "    // Tell IPython that the notebook contents must change.\n",
       "    IPython.notebook.set_dirty(true);\n",
       "    this.send_message(\"ack\", {});\n",
       "    var fig = this;\n",
       "    // Wait a second, then push the new image to the DOM so\n",
       "    // that it is saved nicely (might be nice to debounce this).\n",
       "    setTimeout(function () { fig.push_to_output() }, 1000);\n",
       "}\n",
       "\n",
       "mpl.figure.prototype._init_toolbar = function() {\n",
       "    var fig = this;\n",
       "\n",
       "    var nav_element = $('<div/>');\n",
       "    nav_element.attr('style', 'width: 100%');\n",
       "    this.root.append(nav_element);\n",
       "\n",
       "    // Define a callback function for later on.\n",
       "    function toolbar_event(event) {\n",
       "        return fig.toolbar_button_onclick(event['data']);\n",
       "    }\n",
       "    function toolbar_mouse_event(event) {\n",
       "        return fig.toolbar_button_onmouseover(event['data']);\n",
       "    }\n",
       "\n",
       "    for(var toolbar_ind in mpl.toolbar_items){\n",
       "        var name = mpl.toolbar_items[toolbar_ind][0];\n",
       "        var tooltip = mpl.toolbar_items[toolbar_ind][1];\n",
       "        var image = mpl.toolbar_items[toolbar_ind][2];\n",
       "        var method_name = mpl.toolbar_items[toolbar_ind][3];\n",
       "\n",
       "        if (!name) { continue; };\n",
       "\n",
       "        var button = $('<button class=\"btn btn-default\" href=\"#\" title=\"' + name + '\"><i class=\"fa ' + image + ' fa-lg\"></i></button>');\n",
       "        button.click(method_name, toolbar_event);\n",
       "        button.mouseover(tooltip, toolbar_mouse_event);\n",
       "        nav_element.append(button);\n",
       "    }\n",
       "\n",
       "    // Add the status bar.\n",
       "    var status_bar = $('<span class=\"mpl-message\" style=\"text-align:right; float: right;\"/>');\n",
       "    nav_element.append(status_bar);\n",
       "    this.message = status_bar[0];\n",
       "\n",
       "    // Add the close button to the window.\n",
       "    var buttongrp = $('<div class=\"btn-group inline pull-right\"></div>');\n",
       "    var button = $('<button class=\"btn btn-mini btn-primary\" href=\"#\" title=\"Stop Interaction\"><i class=\"fa fa-power-off icon-remove icon-large\"></i></button>');\n",
       "    button.click(function (evt) { fig.handle_close(fig, {}); } );\n",
       "    button.mouseover('Stop Interaction', toolbar_mouse_event);\n",
       "    buttongrp.append(button);\n",
       "    var titlebar = this.root.find($('.ui-dialog-titlebar'));\n",
       "    titlebar.prepend(buttongrp);\n",
       "}\n",
       "\n",
       "mpl.figure.prototype._root_extra_style = function(el){\n",
       "    var fig = this\n",
       "    el.on(\"remove\", function(){\n",
       "\tfig.close_ws(fig, {});\n",
       "    });\n",
       "}\n",
       "\n",
       "mpl.figure.prototype._canvas_extra_style = function(el){\n",
       "    // this is important to make the div 'focusable\n",
       "    el.attr('tabindex', 0)\n",
       "    // reach out to IPython and tell the keyboard manager to turn it's self\n",
       "    // off when our div gets focus\n",
       "\n",
       "    // location in version 3\n",
       "    if (IPython.notebook.keyboard_manager) {\n",
       "        IPython.notebook.keyboard_manager.register_events(el);\n",
       "    }\n",
       "    else {\n",
       "        // location in version 2\n",
       "        IPython.keyboard_manager.register_events(el);\n",
       "    }\n",
       "\n",
       "}\n",
       "\n",
       "mpl.figure.prototype._key_event_extra = function(event, name) {\n",
       "    var manager = IPython.notebook.keyboard_manager;\n",
       "    if (!manager)\n",
       "        manager = IPython.keyboard_manager;\n",
       "\n",
       "    // Check for shift+enter\n",
       "    if (event.shiftKey && event.which == 13) {\n",
       "        this.canvas_div.blur();\n",
       "        event.shiftKey = false;\n",
       "        // Send a \"J\" for go to next cell\n",
       "        event.which = 74;\n",
       "        event.keyCode = 74;\n",
       "        manager.command_mode();\n",
       "        manager.handle_keydown(event);\n",
       "    }\n",
       "}\n",
       "\n",
       "mpl.figure.prototype.handle_save = function(fig, msg) {\n",
       "    fig.ondownload(fig, null);\n",
       "}\n",
       "\n",
       "\n",
       "mpl.find_output_cell = function(html_output) {\n",
       "    // Return the cell and output element which can be found *uniquely* in the notebook.\n",
       "    // Note - this is a bit hacky, but it is done because the \"notebook_saving.Notebook\"\n",
       "    // IPython event is triggered only after the cells have been serialised, which for\n",
       "    // our purposes (turning an active figure into a static one), is too late.\n",
       "    var cells = IPython.notebook.get_cells();\n",
       "    var ncells = cells.length;\n",
       "    for (var i=0; i<ncells; i++) {\n",
       "        var cell = cells[i];\n",
       "        if (cell.cell_type === 'code'){\n",
       "            for (var j=0; j<cell.output_area.outputs.length; j++) {\n",
       "                var data = cell.output_area.outputs[j];\n",
       "                if (data.data) {\n",
       "                    // IPython >= 3 moved mimebundle to data attribute of output\n",
       "                    data = data.data;\n",
       "                }\n",
       "                if (data['text/html'] == html_output) {\n",
       "                    return [cell, data, j];\n",
       "                }\n",
       "            }\n",
       "        }\n",
       "    }\n",
       "}\n",
       "\n",
       "// Register the function which deals with the matplotlib target/channel.\n",
       "// The kernel may be null if the page has been refreshed.\n",
       "if (IPython.notebook.kernel != null) {\n",
       "    IPython.notebook.kernel.comm_manager.register_target('matplotlib', mpl.mpl_figure_comm);\n",
       "}\n"
      ],
      "text/plain": [
       "<IPython.core.display.Javascript object>"
      ]
     },
     "metadata": {},
     "output_type": "display_data"
    },
    {
     "data": {
      "text/html": [
       "<img src=\"data:image/png;base64,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\" width=\"640\">"
      ],
      "text/plain": [
       "<IPython.core.display.HTML object>"
      ]
     },
     "metadata": {},
     "output_type": "display_data"
    },
    {
     "data": {
      "text/plain": [
       "<matplotlib.legend.Legend at 0x7f70a0689908>"
      ]
     },
     "execution_count": 14,
     "metadata": {},
     "output_type": "execute_result"
    }
   ],
   "source": [
    "close(1);figure(1)\n",
    "plot(a,sin(a),label=\"$ \\sin (\\\\alpha)$\")\n",
    "plot(a,a.to('rad'),'--',label=\"$ \\\\alpha \\mathrm{[rad]}$\")\n",
    "xlabel(\"$\\\\alpha [\\mathrm{'}]$\")\n",
    "legend()"
   ]
  },
  {
   "cell_type": "markdown",
   "metadata": {},
   "source": [
    "The key point is that for small $\\alpha$ (certainly a couple hundred arcmin) $\\sin(\\alpha) \\approx \\alpha$ is a very good approximation. "
   ]
  },
  {
   "cell_type": "markdown",
   "metadata": {},
   "source": [
    "## Astronomical unit\n",
    "\n"
   ]
  },
  {
   "cell_type": "code",
   "execution_count": 15,
   "metadata": {},
   "outputs": [
    {
     "data": {
      "text/latex": [
       "$1.4959787 \\times 10^{11} \\; \\mathrm{m}$"
      ],
      "text/plain": [
       "<<class 'astropy.constants.iau2015.IAU2015'> name='Astronomical Unit' value=149597870700.0 uncertainty=0.0 unit='m' reference='IAU 2012 Resolution B2'>"
      ]
     },
     "execution_count": 15,
     "metadata": {},
     "output_type": "execute_result"
    }
   ],
   "source": [
    "constants.au"
   ]
  },
  {
   "cell_type": "markdown",
   "metadata": {},
   "source": [
    "### Parsec\n",
    "The distance $D$ of an object from which one astronomical unit $AU$ is seen at an angle 1 arcsec. Because for such a small angle $\\sin(\\alpha) \\approx \\alpha$ we have\n",
    "for $\\alpha = 1\\mathrm{'} = 4.848\\times10^{-6}\\mathrm{rad}$ \n",
    "$$\n",
    "\\alpha \\approx \\sin \\alpha = \\frac{AU}{D}\n",
    "$$\n",
    "where we just need to remember that because $\\alpha$ as an argument of $\\sin$ must be in $\\mathrm{rad}$, $\\alpha$ on the far left of this equation must also be in radians."
   ]
  },
  {
   "cell_type": "code",
   "execution_count": 19,
   "metadata": {},
   "outputs": [
    {
     "data": {
      "text/plain": [
       "4.84813681109536e-06"
      ]
     },
     "execution_count": 19,
     "metadata": {},
     "output_type": "execute_result"
    }
   ],
   "source": [
    "# one arcsec in rad:\n",
    "units.arcsec.to('rad')"
   ]
  },
  {
   "cell_type": "code",
   "execution_count": 20,
   "metadata": {},
   "outputs": [
    {
     "data": {
      "text/plain": [
       "206264.80624709636"
      ]
     },
     "execution_count": 20,
     "metadata": {},
     "output_type": "execute_result"
    }
   ],
   "source": [
    "# one rad in arcsec:\n",
    "1./units.arcsec.to('rad')"
   ]
  },
  {
   "cell_type": "code",
   "execution_count": 99,
   "metadata": {},
   "outputs": [
    {
     "data": {
      "text/latex": [
       "$3.0856776 \\times 10^{16} \\; \\mathrm{m}$"
      ],
      "text/plain": [
       "<Quantity 3.08567758e+16 m>"
      ]
     },
     "execution_count": 99,
     "metadata": {},
     "output_type": "execute_result"
    }
   ],
   "source": [
    "# Then one parsec is\n",
    "D = constants.au / units.arcsec.to('rad')\n",
    "D"
   ]
  },
  {
   "cell_type": "code",
   "execution_count": 100,
   "metadata": {},
   "outputs": [
    {
     "data": {
      "text/latex": [
       "$206264.81 \\; \\mathrm{AU}$"
      ],
      "text/plain": [
       "<Quantity 206264.8062471 AU>"
      ]
     },
     "execution_count": 100,
     "metadata": {},
     "output_type": "execute_result"
    }
   ],
   "source": [
    "# parsec in AU:\n",
    "D.to('AU')"
   ]
  },
  {
   "cell_type": "code",
   "execution_count": 23,
   "metadata": {},
   "outputs": [
    {
     "data": {
      "text/latex": [
       "$\\mathrm{lyr}$"
      ],
      "text/plain": [
       "Unit(\"lyr\")"
      ]
     },
     "execution_count": 23,
     "metadata": {},
     "output_type": "execute_result"
    }
   ],
   "source": [
    "units.lightyear"
   ]
  },
  {
   "cell_type": "code",
   "execution_count": 101,
   "metadata": {},
   "outputs": [
    {
     "data": {
      "text/latex": [
       "$3.2615638 \\; \\mathrm{lyr}$"
      ],
      "text/plain": [
       "<Quantity 3.26156378 lyr>"
      ]
     },
     "execution_count": 101,
     "metadata": {},
     "output_type": "execute_result"
    }
   ],
   "source": [
    "# parsec in lightyear:\n",
    "D.to('lightyear')"
   ]
  },
  {
   "cell_type": "code",
   "execution_count": 22,
   "metadata": {},
   "outputs": [
    {
     "data": {
      "text/latex": [
       "$3261.5638 \\; \\mathrm{lyr}$"
      ],
      "text/plain": [
       "<Quantity 3261.56377714 lyr>"
      ]
     },
     "execution_count": 22,
     "metadata": {},
     "output_type": "execute_result"
    }
   ],
   "source": [
    "constants.kpc.to('lightyear')"
   ]
  },
  {
   "cell_type": "code",
   "execution_count": null,
   "metadata": {},
   "outputs": [],
   "source": [
    "c.au.to('lightyear')"
   ]
  },
  {
   "cell_type": "code",
   "execution_count": 26,
   "metadata": {},
   "outputs": [
    {
     "data": {
      "text/latex": [
       "$63241.077 \\; \\mathrm{AU}$"
      ],
      "text/plain": [
       "<Quantity 63241.07708427 AU>"
      ]
     },
     "execution_count": 26,
     "metadata": {},
     "output_type": "execute_result"
    }
   ],
   "source": [
    "(constants.c*units.year).to('au')"
   ]
  },
  {
   "cell_type": "code",
   "execution_count": 28,
   "metadata": {},
   "outputs": [
    {
     "data": {
      "text/latex": [
       "$63241.077 \\; \\mathrm{AU}$"
      ],
      "text/plain": [
       "<Quantity 63241.07708427 AU>"
      ]
     },
     "execution_count": 28,
     "metadata": {},
     "output_type": "execute_result"
    }
   ],
   "source": [
    "(1*units.lightyear).to('au')"
   ]
  },
  {
   "cell_type": "code",
   "execution_count": 30,
   "metadata": {},
   "outputs": [
    {
     "data": {
      "text/latex": [
       "$206264.81 \\; \\mathrm{AU}$"
      ],
      "text/plain": [
       "<Quantity 206264.80624548 AU>"
      ]
     },
     "execution_count": 30,
     "metadata": {},
     "output_type": "execute_result"
    }
   ],
   "source": [
    "constants.pc.to('au')"
   ]
  },
  {
   "cell_type": "markdown",
   "metadata": {},
   "source": [
    "## Stefan-Boltzmann law\n"
   ]
  },
  {
   "cell_type": "code",
   "execution_count": 45,
   "metadata": {},
   "outputs": [
    {
     "data": {
      "text/plain": [
       "123.4567901234568"
      ]
     },
     "execution_count": 45,
     "metadata": {},
     "output_type": "execute_result"
    }
   ],
   "source": [
    "# L1/L2 = (T1/T2)^4\n",
    "T1 = 3000; T2 = 10000\n",
    "L1 = 1\n",
    "# L2:\n",
    "L1 / (T1/T2)**4"
   ]
  },
  {
   "cell_type": "code",
   "execution_count": 46,
   "metadata": {},
   "outputs": [
    {
     "data": {
      "text/plain": [
       "2.0915149811213505"
      ]
     },
     "execution_count": 46,
     "metadata": {},
     "output_type": "execute_result"
    }
   ],
   "source": [
    "log10(_)"
   ]
  },
  {
   "cell_type": "code",
   "execution_count": 47,
   "metadata": {},
   "outputs": [
    {
     "data": {
      "text/plain": [
       "1.9084850188786497"
      ]
     },
     "execution_count": 47,
     "metadata": {},
     "output_type": "execute_result"
    }
   ],
   "source": [
    "log10(3*3*3*3)"
   ]
  },
  {
   "cell_type": "markdown",
   "metadata": {},
   "source": [
    "This is how much more luminous star 2 is compared to star 1, if star 2 is 10000/3000 times hotter but has the same radius: "
   ]
  },
  {
   "cell_type": "code",
   "execution_count": 44,
   "metadata": {},
   "outputs": [
    {
     "data": {
      "text/plain": [
       "123.45679012345681"
      ]
     },
     "execution_count": 44,
     "metadata": {},
     "output_type": "execute_result"
    }
   ],
   "source": [
    "(10/3)**4"
   ]
  },
  {
   "cell_type": "code",
   "execution_count": 48,
   "metadata": {},
   "outputs": [
    {
     "data": {
      "text/plain": [
       "2.0915149811213505"
      ]
     },
     "execution_count": 48,
     "metadata": {},
     "output_type": "execute_result"
    }
   ],
   "source": [
    "log10((10/3)**4)"
   ]
  },
  {
   "cell_type": "markdown",
   "metadata": {},
   "source": [
    "## Elementary particles"
   ]
  },
  {
   "cell_type": "code",
   "execution_count": 1,
   "metadata": {},
   "outputs": [],
   "source": [
    "from astropy import units\n",
    "from astropy import constants"
   ]
  },
  {
   "cell_type": "code",
   "execution_count": 2,
   "metadata": {},
   "outputs": [
    {
     "data": {
      "text/latex": [
       "$9.1093836 \\times 10^{-31} \\; \\mathrm{kg}$"
      ],
      "text/plain": [
       "<<class 'astropy.constants.codata2014.CODATA2014'> name='Electron mass' value=9.10938356e-31 uncertainty=1.1e-38 unit='kg' reference='CODATA 2014'>"
      ]
     },
     "execution_count": 2,
     "metadata": {},
     "output_type": "execute_result"
    }
   ],
   "source": [
    "constants.m_e"
   ]
  },
  {
   "cell_type": "code",
   "execution_count": 3,
   "metadata": {},
   "outputs": [
    {
     "data": {
      "text/latex": [
       "$1.6726219 \\times 10^{-27} \\; \\mathrm{kg}$"
      ],
      "text/plain": [
       "<<class 'astropy.constants.codata2014.CODATA2014'> name='Proton mass' value=1.672621898e-27 uncertainty=2.1e-35 unit='kg' reference='CODATA 2014'>"
      ]
     },
     "execution_count": 3,
     "metadata": {},
     "output_type": "execute_result"
    }
   ],
   "source": [
    "constants.m_p"
   ]
  },
  {
   "cell_type": "code",
   "execution_count": 4,
   "metadata": {},
   "outputs": [
    {
     "data": {
      "text/latex": [
       "$1836.1527 \\; \\mathrm{}$"
      ],
      "text/plain": [
       "<Quantity 1836.15267376>"
      ]
     },
     "execution_count": 4,
     "metadata": {},
     "output_type": "execute_result"
    }
   ],
   "source": [
    "constants.m_p/constants.m_e"
   ]
  },
  {
   "cell_type": "code",
   "execution_count": 10,
   "metadata": {},
   "outputs": [
    {
     "data": {
      "text/latex": [
       "$6.6904876 \\times 10^{-27} \\; \\mathrm{kg}$"
      ],
      "text/plain": [
       "<Quantity 6.69048759e-27 kg>"
      ]
     },
     "execution_count": 10,
     "metadata": {},
     "output_type": "execute_result"
    }
   ],
   "source": [
    "4*constants.m_p"
   ]
  },
  {
   "cell_type": "code",
   "execution_count": 22,
   "metadata": {},
   "outputs": [],
   "source": [
    "constants.u?"
   ]
  },
  {
   "cell_type": "code",
   "execution_count": 24,
   "metadata": {},
   "outputs": [],
   "source": [
    "p_u = 1.007276466621"
   ]
  },
  {
   "cell_type": "code",
   "execution_count": 28,
   "metadata": {},
   "outputs": [
    {
     "data": {
      "text/plain": [
       "0.02650386648399916"
      ]
     },
     "execution_count": 28,
     "metadata": {},
     "output_type": "execute_result"
    }
   ],
   "source": [
    "4*p_u - 4.002602"
   ]
  },
  {
   "cell_type": "code",
   "execution_count": 29,
   "metadata": {},
   "outputs": [
    {
     "data": {
      "text/plain": [
       "0.006621659231669588"
      ]
     },
     "execution_count": 29,
     "metadata": {},
     "output_type": "execute_result"
    }
   ],
   "source": [
    "_/4.002602"
   ]
  },
  {
   "cell_type": "code",
   "execution_count": 8,
   "metadata": {},
   "outputs": [
    {
     "data": {
      "text/latex": [
       "$1.6726219 \\times 10^{-27} \\; \\mathrm{kg}$"
      ],
      "text/plain": [
       "<Quantity 1.6726219e-27 kg>"
      ]
     },
     "execution_count": 8,
     "metadata": {},
     "output_type": "execute_result"
    }
   ],
   "source": [
    "p_u * constants.u"
   ]
  },
  {
   "cell_type": "code",
   "execution_count": 13,
   "metadata": {},
   "outputs": [],
   "source": [
    "m_he4 = 4.002602*constants.u"
   ]
  },
  {
   "cell_type": "code",
   "execution_count": 14,
   "metadata": {},
   "outputs": [],
   "source": [
    "m_4h1 = 4. * constants.m_p"
   ]
  },
  {
   "cell_type": "code",
   "execution_count": 15,
   "metadata": {},
   "outputs": [
    {
     "data": {
      "text/latex": [
       "$1.0066217 \\; \\mathrm{}$"
      ],
      "text/plain": [
       "<Quantity 1.00662166>"
      ]
     },
     "execution_count": 15,
     "metadata": {},
     "output_type": "execute_result"
    }
   ],
   "source": [
    "m_4h1/m_he4"
   ]
  },
  {
   "cell_type": "code",
   "execution_count": 16,
   "metadata": {},
   "outputs": [
    {
     "data": {
      "text/latex": [
       "$6.6464769 \\times 10^{-27} \\; \\mathrm{kg}$"
      ],
      "text/plain": [
       "<Quantity 6.64647688e-27 kg>"
      ]
     },
     "execution_count": 16,
     "metadata": {},
     "output_type": "execute_result"
    }
   ],
   "source": [
    "m_he4"
   ]
  },
  {
   "cell_type": "code",
   "execution_count": 21,
   "metadata": {},
   "outputs": [
    {
     "data": {
      "text/latex": [
       "$0.0066216599 \\; \\mathrm{}$"
      ],
      "text/plain": [
       "<Quantity 0.00662166>"
      ]
     },
     "execution_count": 21,
     "metadata": {},
     "output_type": "execute_result"
    }
   ],
   "source": [
    "m_4h1/m_he4 - 1."
   ]
  },
  {
   "cell_type": "code",
   "execution_count": 19,
   "metadata": {},
   "outputs": [],
   "source": [
    "import numpy as np"
   ]
  },
  {
   "cell_type": "code",
   "execution_count": 20,
   "metadata": {},
   "outputs": [
    {
     "data": {
      "text/latex": [
       "$0.007 \\; \\mathrm{}$"
      ],
      "text/plain": [
       "<Quantity 0.007>"
      ]
     },
     "execution_count": 20,
     "metadata": {},
     "output_type": "execute_result"
    }
   ],
   "source": [
    "np.round(m_4h1/m_he4 - 1.,3)"
   ]
  },
  {
   "cell_type": "markdown",
   "metadata": {},
   "source": [
    "## Energy of nuclear burning"
   ]
  },
  {
   "cell_type": "markdown",
   "metadata": {},
   "source": [
    "How much energy is produced when the sun converts 500 g of mass into energy? _convert 500g_ means that the mass defect is 500g. How much solar material was involved?\n",
    "\n",
    "1. Only $\\approx 78\\%$ of the sun by mass is H, the rest is $^4$He and some metals.\n",
    "2. Mass defect is 0.007 for H burning."
   ]
  },
  {
   "cell_type": "code",
   "execution_count": 32,
   "metadata": {},
   "outputs": [
    {
     "data": {
      "text/latex": [
       "$91.575092 \\; \\mathrm{kg}$"
      ],
      "text/plain": [
       "<Quantity 91.57509158 kg>"
      ]
     },
     "execution_count": 32,
     "metadata": {},
     "output_type": "execute_result"
    }
   ],
   "source": [
    "0.5*units.kg /0.007 /0.78"
   ]
  },
  {
   "cell_type": "markdown",
   "metadata": {},
   "source": [
    "Next, use $E = m c^2$ to calculate the amount of energy $0.5\\mathrm{kg}$ corresponds to."
   ]
  },
  {
   "cell_type": "code",
   "execution_count": 38,
   "metadata": {},
   "outputs": [],
   "source": [
    "E = 0.5*units.kg * constants.c**2"
   ]
  },
  {
   "cell_type": "code",
   "execution_count": 41,
   "metadata": {},
   "outputs": [
    {
     "data": {
      "text/latex": [
       "$4.4937759 \\times 10^{16} \\; \\mathrm{J}$"
      ],
      "text/plain": [
       "<Quantity 4.49377589e+16 J>"
      ]
     },
     "execution_count": 41,
     "metadata": {},
     "output_type": "execute_result"
    }
   ],
   "source": [
    "E.to('J')"
   ]
  },
  {
   "cell_type": "markdown",
   "metadata": {},
   "source": [
    "Compare this to the energy released in the first nuclear bomb [Little Boy](https://en.wikipedia.org/wiki/Little_Boy), dropped in 1945 on Hiroshima. It released \t15 kilotons of TNT (63 TJ). "
   ]
  },
  {
   "cell_type": "code",
   "execution_count": 43,
   "metadata": {},
   "outputs": [],
   "source": [
    "E_lb = 64*units.TJ"
   ]
  },
  {
   "cell_type": "code",
   "execution_count": 46,
   "metadata": {},
   "outputs": [
    {
     "data": {
      "text/latex": [
       "$702.15248 \\; \\mathrm{}$"
      ],
      "text/plain": [
       "<Quantity 702.15248339>"
      ]
     },
     "execution_count": 46,
     "metadata": {},
     "output_type": "execute_result"
    }
   ],
   "source": [
    "(E/E_lb).si"
   ]
  },
  {
   "cell_type": "code",
   "execution_count": null,
   "metadata": {},
   "outputs": [],
   "source": []
  }
 ],
 "metadata": {
  "kernelspec": {
   "display_name": "Python 3",
   "language": "python",
   "name": "python3"
  },
  "language_info": {
   "codemirror_mode": {
    "name": "ipython",
    "version": 3
   },
   "file_extension": ".py",
   "mimetype": "text/x-python",
   "name": "python",
   "nbconvert_exporter": "python",
   "pygments_lexer": "ipython3",
   "version": "3.7.3"
  }
 },
 "nbformat": 4,
 "nbformat_minor": 4
}
